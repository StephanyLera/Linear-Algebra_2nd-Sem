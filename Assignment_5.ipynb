{
  "nbformat": 4,
  "nbformat_minor": 0,
  "metadata": {
    "colab": {
      "name": "Assignment 5.ipynb",
      "provenance": [],
      "authorship_tag": "ABX9TyPhWPF9OOHXn3mUXWMcsOr+",
      "include_colab_link": true
    },
    "kernelspec": {
      "name": "python3",
      "display_name": "Python 3"
    },
    "language_info": {
      "name": "python"
    }
  },
  "cells": [
    {
      "cell_type": "markdown",
      "metadata": {
        "id": "view-in-github",
        "colab_type": "text"
      },
      "source": [
        "<a href=\"https://colab.research.google.com/github/StephanyLera/Linear-Algebra_2nd-Sem/blob/main/Assignment_5.ipynb\" target=\"_parent\"><img src=\"https://colab.research.google.com/assets/colab-badge.svg\" alt=\"Open In Colab\"/></a>"
      ]
    },
    {
      "cell_type": "code",
      "execution_count": null,
      "metadata": {
        "id": "W1GUAueQJtEc"
      },
      "outputs": [],
      "source": [
        "#Linear Algebra for ChE"
      ]
    },
    {
      "cell_type": "markdown",
      "source": [
        "## Laboratory 6 : Matrix Operations"
      ],
      "metadata": {
        "id": "J6Q6_FpmJ_X2"
      }
    },
    {
      "cell_type": "markdown",
      "source": [
        "Now that you have a fundamental knowledge about representing and operating with vectors as well as the fundamentals of matrices, we'll try to the same operations with matrices and even more."
      ],
      "metadata": {
        "id": "jj20lEyFKDIl"
      }
    },
    {
      "cell_type": "markdown",
      "source": [
        "### Objectives\n",
        "At the end of this activity you will be able to:\n",
        "1. Be familiar with the fundamental matrix operations.\n",
        "2. Apply the operations to solve intermediate equations.\n",
        "3. Apply matrix algebra in engineering solutions."
      ],
      "metadata": {
        "id": "orDD9mjUKE5V"
      }
    },
    {
      "cell_type": "markdown",
      "source": [
        "## Discussion"
      ],
      "metadata": {
        "id": "SIPEHXDFKIP-"
      }
    },
    {
      "cell_type": "code",
      "source": [
        "import numpy as np\n",
        "import matplotlib.pyplot as plt\n",
        "%matplotlib inline"
      ],
      "metadata": {
        "id": "k2kWTHIQKJ9V"
      },
      "execution_count": 1,
      "outputs": []
    },
    {
      "cell_type": "markdown",
      "source": [
        "##Transposition"
      ],
      "metadata": {
        "id": "SoaSgVlQKNC9"
      }
    },
    {
      "cell_type": "markdown",
      "source": [
        "One of the fundamental operations in matrix algebra is Transposition. The transpose of a matrix is done by flipping the values of its elements over its diagonals. With this, the rows and columns from the original matrix will be switched. So for a matrix $A$ its transpose is denoted as $A^T$. So for example:"
      ],
      "metadata": {
        "id": "twBoTcRdKQBe"
      }
    },
    {
      "cell_type": "markdown",
      "source": [
        "$$A = \\begin{bmatrix} 1 & 2 & 5\\\\5 & -1 &0 \\\\ 0 & -3 & 3\\end{bmatrix} $$"
      ],
      "metadata": {
        "id": "VgAzNLAtKQp1"
      }
    },
    {
      "cell_type": "markdown",
      "source": [
        "$$ A^T = \\begin{bmatrix} 1 & 5 & 0\\\\2 & -1 &-3 \\\\ 5 & 0 & 3\\end{bmatrix}$$"
      ],
      "metadata": {
        "id": "wdT0QbhqKS02"
      }
    },
    {
      "cell_type": "markdown",
      "source": [
        "This can now be achieved programmatically by using np.transpose() or using the T method"
      ],
      "metadata": {
        "id": "npicfNOvKbjU"
      }
    },
    {
      "cell_type": "code",
      "source": [
        "A = np.array([\n",
        "              [1,2,5],\n",
        "              [5,-1,0],\n",
        "              [0,-3,3]\n",
        "])\n",
        "A"
      ],
      "metadata": {
        "colab": {
          "base_uri": "https://localhost:8080/"
        },
        "id": "89-bFujoKcjs",
        "outputId": "eced97eb-1288-46ab-88eb-ce6a385e1ef3"
      },
      "execution_count": 2,
      "outputs": [
        {
          "output_type": "execute_result",
          "data": {
            "text/plain": [
              "array([[ 1,  2,  5],\n",
              "       [ 5, -1,  0],\n",
              "       [ 0, -3,  3]])"
            ]
          },
          "metadata": {},
          "execution_count": 2
        }
      ]
    },
    {
      "cell_type": "code",
      "source": [
        "AT1 = np.transpose(A)\n",
        "AT1"
      ],
      "metadata": {
        "colab": {
          "base_uri": "https://localhost:8080/"
        },
        "id": "qg1HsuIeKeL9",
        "outputId": "bf716b49-213f-4eff-ae93-161949d73752"
      },
      "execution_count": 3,
      "outputs": [
        {
          "output_type": "execute_result",
          "data": {
            "text/plain": [
              "array([[ 1,  5,  0],\n",
              "       [ 2, -1, -3],\n",
              "       [ 5,  0,  3]])"
            ]
          },
          "metadata": {},
          "execution_count": 3
        }
      ]
    },
    {
      "cell_type": "code",
      "source": [
        "AT2 = A.T\n",
        "AT2"
      ],
      "metadata": {
        "colab": {
          "base_uri": "https://localhost:8080/"
        },
        "id": "8M9q-_N5LQsl",
        "outputId": "b99ddf57-c784-46a1-a129-162cbb4148d4"
      },
      "execution_count": 6,
      "outputs": [
        {
          "output_type": "execute_result",
          "data": {
            "text/plain": [
              "array([[ 1,  5,  0],\n",
              "       [ 2, -1, -3],\n",
              "       [ 5,  0,  3]])"
            ]
          },
          "metadata": {},
          "execution_count": 6
        }
      ]
    },
    {
      "cell_type": "code",
      "source": [
        "np.array_equiv(AT1, AT2)"
      ],
      "metadata": {
        "colab": {
          "base_uri": "https://localhost:8080/"
        },
        "id": "ijZeLNGwKx62",
        "outputId": "9889988e-8473-4439-8a46-03575eabf751"
      },
      "execution_count": 7,
      "outputs": [
        {
          "output_type": "execute_result",
          "data": {
            "text/plain": [
              "True"
            ]
          },
          "metadata": {},
          "execution_count": 7
        }
      ]
    },
    {
      "cell_type": "code",
      "source": [
        "B = np.array([\n",
        "    [2,4,6,8],\n",
        "    [1,2,3,4],\n",
        "])\n",
        "B.shape"
      ],
      "metadata": {
        "colab": {
          "base_uri": "https://localhost:8080/"
        },
        "id": "Jiik6j1ZK9TF",
        "outputId": "dbf5a2c6-4522-4e1f-ef5f-357b833bd032"
      },
      "execution_count": 8,
      "outputs": [
        {
          "output_type": "execute_result",
          "data": {
            "text/plain": [
              "(2, 4)"
            ]
          },
          "metadata": {},
          "execution_count": 8
        }
      ]
    },
    {
      "cell_type": "code",
      "source": [
        "np.transpose(B).shape"
      ],
      "metadata": {
        "colab": {
          "base_uri": "https://localhost:8080/"
        },
        "id": "SiWIhKyCK93v",
        "outputId": "b88ed6cd-359c-4bb5-e733-8f9386809ea4"
      },
      "execution_count": 9,
      "outputs": [
        {
          "output_type": "execute_result",
          "data": {
            "text/plain": [
              "(4, 2)"
            ]
          },
          "metadata": {},
          "execution_count": 9
        }
      ]
    },
    {
      "cell_type": "code",
      "source": [
        "B.T.shape"
      ],
      "metadata": {
        "colab": {
          "base_uri": "https://localhost:8080/"
        },
        "id": "ROEKG1TeK-9l",
        "outputId": "6c2c72a8-daa1-49b7-e9a9-a22707eaa8a3"
      },
      "execution_count": 10,
      "outputs": [
        {
          "output_type": "execute_result",
          "data": {
            "text/plain": [
              "(4, 2)"
            ]
          },
          "metadata": {},
          "execution_count": 10
        }
      ]
    },
    {
      "cell_type": "markdown",
      "source": [
        "####Try to create your own matrix (you can try non-squares) to test transposition."
      ],
      "metadata": {
        "id": "wenuFb_DLBCJ"
      }
    },
    {
      "cell_type": "code",
      "source": [
        "D=np.array([\n",
        "    [2,4,6,8],\n",
        "    [1,2,3,4]        \n",
        "])\n",
        "D.shape"
      ],
      "metadata": {
        "colab": {
          "base_uri": "https://localhost:8080/"
        },
        "id": "jB7qnfZfLDf1",
        "outputId": "b89deb14-2251-4837-e9fe-f3b041504dcd"
      },
      "execution_count": 13,
      "outputs": [
        {
          "output_type": "execute_result",
          "data": {
            "text/plain": [
              "(2, 4)"
            ]
          },
          "metadata": {},
          "execution_count": 13
        }
      ]
    },
    {
      "cell_type": "code",
      "source": [
        "np.transpose(D).shape"
      ],
      "metadata": {
        "colab": {
          "base_uri": "https://localhost:8080/"
        },
        "id": "h-k41SIqLVBm",
        "outputId": "d24d9028-5aa0-4335-e78d-9b99a756d0c6"
      },
      "execution_count": 14,
      "outputs": [
        {
          "output_type": "execute_result",
          "data": {
            "text/plain": [
              "(4, 2)"
            ]
          },
          "metadata": {},
          "execution_count": 14
        }
      ]
    },
    {
      "cell_type": "code",
      "source": [
        "D.T.shape"
      ],
      "metadata": {
        "colab": {
          "base_uri": "https://localhost:8080/"
        },
        "id": "C4V4a2TJLWA-",
        "outputId": "69d53d95-f44c-4b81-de3d-89beb4cd5c4c"
      },
      "execution_count": 15,
      "outputs": [
        {
          "output_type": "execute_result",
          "data": {
            "text/plain": [
              "(4, 2)"
            ]
          },
          "metadata": {},
          "execution_count": 15
        }
      ]
    },
    {
      "cell_type": "code",
      "source": [
        "DT = D.T\n",
        "DT"
      ],
      "metadata": {
        "colab": {
          "base_uri": "https://localhost:8080/"
        },
        "id": "YEkyM5kVLad-",
        "outputId": "d403b274-1efc-4f07-c6ae-e81f486b825c"
      },
      "execution_count": 16,
      "outputs": [
        {
          "output_type": "execute_result",
          "data": {
            "text/plain": [
              "array([[2, 1],\n",
              "       [4, 2],\n",
              "       [6, 3],\n",
              "       [8, 4]])"
            ]
          },
          "metadata": {},
          "execution_count": 16
        }
      ]
    },
    {
      "cell_type": "markdown",
      "source": [
        "## Dot Product / Inner Product"
      ],
      "metadata": {
        "id": "OzwjwrTJLdql"
      }
    },
    {
      "cell_type": "markdown",
      "source": [
        "If you recall the dot product from laboratory activity before, we will try to implement the same operation with matrices. In matrix dot product we are going to get the sum of products of the vectors by row-column pairs. So if we have two matrices $X$ and $Y$:\n",
        "\n",
        "$$X = \\begin{bmatrix}x_{(0,0)}&x_{(0,1)}\\\\ x_{(1,0)}&x_{(1,1)}\\end{bmatrix}, Y = \\begin{bmatrix}y_{(0,0)}&y_{(0,1)}\\\\ y_{(1,0)}&y_{(1,1)}\\end{bmatrix}$$\n",
        "\n",
        "The dot product will then be computed as:\n",
        "$$X \\cdot Y= \\begin{bmatrix} x_{(0,0)}*y_{(0,0)} + x_{(0,1)}*y_{(1,0)} & x_{(0,0)}*y_{(0,1)} + x_{(0,1)}*y_{(1,1)} \\\\  x_{(1,0)}*y_{(0,0)} + x_{(1,1)}*y_{(1,0)} & x_{(1,0)}*y_{(0,1)} + x_{(1,1)}*y_{(1,1)}\n",
        "\\end{bmatrix}$$\n",
        "\n",
        "So if we assign values to $X$ and $Y$:\n",
        "$$X = \\begin{bmatrix}1&2\\\\ 0&1\\end{bmatrix}, Y = \\begin{bmatrix}-1&0\\\\ 2&2\\end{bmatrix}$$"
      ],
      "metadata": {
        "id": "EolF6mmPLea-"
      }
    },
    {
      "cell_type": "markdown",
      "source": [
        "$$X \\cdot Y= \\begin{bmatrix} 1*-1 + 2*2 & 1*0 + 2*2 \\\\  0*-1 + 1*2 & 0*0 + 1*2 \\end{bmatrix} = \\begin{bmatrix} 3 & 4 \\\\2 & 2 \\end{bmatrix}$$\n",
        "This could be achieved programmatically using `np.dot()`, `np.matmul()` or the `@` operator."
      ],
      "metadata": {
        "id": "TJp2f8WnLjaG"
      }
    },
    {
      "cell_type": "code",
      "source": [
        "X = np.array([\n",
        "    [5,8],\n",
        "    [1,2]\n",
        "])\n",
        "Y = np.array([\n",
        "    [-1,6],\n",
        "    [5,9]\n",
        "])"
      ],
      "metadata": {
        "id": "6-FKUk4kLmBe"
      },
      "execution_count": 17,
      "outputs": []
    },
    {
      "cell_type": "code",
      "source": [
        "np.array_equiv(X, Y)"
      ],
      "metadata": {
        "colab": {
          "base_uri": "https://localhost:8080/"
        },
        "id": "0P1N3akjLn5g",
        "outputId": "5aac8044-b5cd-4d93-c59e-8004598f770a"
      },
      "execution_count": 18,
      "outputs": [
        {
          "output_type": "execute_result",
          "data": {
            "text/plain": [
              "False"
            ]
          },
          "metadata": {},
          "execution_count": 18
        }
      ]
    },
    {
      "cell_type": "code",
      "source": [
        "np.dot(X,Y)"
      ],
      "metadata": {
        "colab": {
          "base_uri": "https://localhost:8080/"
        },
        "id": "1RNw6l6kLrqu",
        "outputId": "28df0ec9-b8a7-4cef-91aa-23ae9c2b8cd4"
      },
      "execution_count": 19,
      "outputs": [
        {
          "output_type": "execute_result",
          "data": {
            "text/plain": [
              "array([[ 35, 102],\n",
              "       [  9,  24]])"
            ]
          },
          "metadata": {},
          "execution_count": 19
        }
      ]
    },
    {
      "cell_type": "code",
      "source": [
        "X.dot(Y)"
      ],
      "metadata": {
        "colab": {
          "base_uri": "https://localhost:8080/"
        },
        "id": "rOiXFO-WLr3q",
        "outputId": "e5709fd1-fa9e-4acd-d4c2-1fec58b73c0b"
      },
      "execution_count": 20,
      "outputs": [
        {
          "output_type": "execute_result",
          "data": {
            "text/plain": [
              "array([[ 35, 102],\n",
              "       [  9,  24]])"
            ]
          },
          "metadata": {},
          "execution_count": 20
        }
      ]
    },
    {
      "cell_type": "code",
      "source": [
        "X @ Y"
      ],
      "metadata": {
        "colab": {
          "base_uri": "https://localhost:8080/"
        },
        "id": "6AYUS-s6LpDH",
        "outputId": "6d8958ae-f316-4e73-fcf5-a9f57b6624f8"
      },
      "execution_count": 21,
      "outputs": [
        {
          "output_type": "execute_result",
          "data": {
            "text/plain": [
              "array([[ 35, 102],\n",
              "       [  9,  24]])"
            ]
          },
          "metadata": {},
          "execution_count": 21
        }
      ]
    },
    {
      "cell_type": "code",
      "source": [
        "np.matmul(X,Y)"
      ],
      "metadata": {
        "colab": {
          "base_uri": "https://localhost:8080/"
        },
        "id": "Rvbz4ab1Lvt-",
        "outputId": "713c6025-b4fd-4af3-fbfc-53f411d2ec5a"
      },
      "execution_count": 22,
      "outputs": [
        {
          "output_type": "execute_result",
          "data": {
            "text/plain": [
              "array([[ 35, 102],\n",
              "       [  9,  24]])"
            ]
          },
          "metadata": {},
          "execution_count": 22
        }
      ]
    },
    {
      "cell_type": "code",
      "source": [
        "K = np.array([\n",
        "    [5,7,9],\n",
        "    [1,2,3],\n",
        "    [4,8,12]\n",
        "])\n",
        "J = np.array([\n",
        "    [-2,0,5],\n",
        "    [2,-4,6],\n",
        "    [7,4,-3]\n",
        "])"
      ],
      "metadata": {
        "id": "FmJcTuYqMBDJ"
      },
      "execution_count": 23,
      "outputs": []
    },
    {
      "cell_type": "code",
      "source": [
        "np.array_equiv(K, J)"
      ],
      "metadata": {
        "colab": {
          "base_uri": "https://localhost:8080/"
        },
        "id": "jYz51NMkMCt2",
        "outputId": "153b0fbf-6112-45f1-dc79-ead65c8131b2"
      },
      "execution_count": 24,
      "outputs": [
        {
          "output_type": "execute_result",
          "data": {
            "text/plain": [
              "False"
            ]
          },
          "metadata": {},
          "execution_count": 24
        }
      ]
    },
    {
      "cell_type": "code",
      "source": [
        "K @ J"
      ],
      "metadata": {
        "colab": {
          "base_uri": "https://localhost:8080/"
        },
        "id": "EI5oHO9IMFI5",
        "outputId": "46ab5b4e-57d3-4c21-a8d0-0ec28ff7d1c8"
      },
      "execution_count": 25,
      "outputs": [
        {
          "output_type": "execute_result",
          "data": {
            "text/plain": [
              "array([[67,  8, 40],\n",
              "       [23,  4,  8],\n",
              "       [92, 16, 32]])"
            ]
          },
          "metadata": {},
          "execution_count": 25
        }
      ]
    },
    {
      "cell_type": "code",
      "source": [
        "K.dot(J)"
      ],
      "metadata": {
        "colab": {
          "base_uri": "https://localhost:8080/"
        },
        "id": "yPddExi9MHZh",
        "outputId": "cdff4255-1cc3-4283-dc34-bf4c569a4512"
      },
      "execution_count": 26,
      "outputs": [
        {
          "output_type": "execute_result",
          "data": {
            "text/plain": [
              "array([[67,  8, 40],\n",
              "       [23,  4,  8],\n",
              "       [92, 16, 32]])"
            ]
          },
          "metadata": {},
          "execution_count": 26
        }
      ]
    },
    {
      "cell_type": "code",
      "source": [
        "np.matmul(K, J)"
      ],
      "metadata": {
        "colab": {
          "base_uri": "https://localhost:8080/"
        },
        "id": "PEhPPyxRMFOH",
        "outputId": "4a57654c-4b96-4a99-e4ef-6f4201c65060"
      },
      "execution_count": 27,
      "outputs": [
        {
          "output_type": "execute_result",
          "data": {
            "text/plain": [
              "array([[67,  8, 40],\n",
              "       [23,  4,  8],\n",
              "       [92, 16, 32]])"
            ]
          },
          "metadata": {},
          "execution_count": 27
        }
      ]
    },
    {
      "cell_type": "code",
      "source": [
        "np.dot(K, J)"
      ],
      "metadata": {
        "colab": {
          "base_uri": "https://localhost:8080/"
        },
        "id": "XrXnwwX7MKP4",
        "outputId": "41ba8e30-78ef-44ac-b66a-af2ac10334a0"
      },
      "execution_count": 28,
      "outputs": [
        {
          "output_type": "execute_result",
          "data": {
            "text/plain": [
              "array([[67,  8, 40],\n",
              "       [23,  4,  8],\n",
              "       [92, 16, 32]])"
            ]
          },
          "metadata": {},
          "execution_count": 28
        }
      ]
    },
    {
      "cell_type": "markdown",
      "source": [
        "In matrix dot products there are additional rules compared with vector dot products. Since vector dot products were just in one dimension there are less restrictions. Since now we are dealing with Rank 2 vectors we need to consider some rules:\n",
        "\n",
        "### Rule 1: The inner dimensions of the two matrices in question must be the same. \n",
        "\n",
        "So given a matrix $A$ with a shape of $(a,b)$ where $a$ and $b$ are any integers. If we want to do a dot product between $A$ and another matrix $B$, then matrix $B$ should have a shape of $(b,c)$ where $b$ and $c$ are any integers. So for given the following matrices:\n",
        "\n",
        "$$Z = \\begin{bmatrix}2&4&5&5\\\\5&-2&6&6\\\\0&1&2&2\\end{bmatrix}, O = \\begin{bmatrix}1&1\\\\3&3\\\\-1&4\\end{bmatrix}, E = \\begin{bmatrix}0&1&1&3\\\\1&1&2&5\\end{bmatrix}$$\n",
        "\n",
        "So in this case $A$ has a shape of $(3,2)$, $B$ has a shape of $(3,2)$ and $C$ has a shape of $(2,3)$. So the only matrix pairs that is eligible to perform dot product is matrices $A \\cdot C$, or $B \\cdot C$.  "
      ],
      "metadata": {
        "id": "E8_hbXCdMMV-"
      }
    },
    {
      "cell_type": "code",
      "source": [
        "Z = np.array([\n",
        "    [2, 4, 5],\n",
        "    [5, -2, 6],\n",
        "    [0, 1, 2]\n",
        "])\n",
        "O = np.array([\n",
        "    [1,1],\n",
        "    [3,3],\n",
        "    [-1,4]\n",
        "])\n",
        "E = np.array([\n",
        "    [0,1,1,3],\n",
        "    [1,1,2,5]\n",
        "])\n",
        "print(Z.shape)\n",
        "print(O.shape)\n",
        "print(E.shape)"
      ],
      "metadata": {
        "colab": {
          "base_uri": "https://localhost:8080/"
        },
        "id": "lEW30ae0MRqn",
        "outputId": "1696995a-7e29-4193-be80-5fb3e0c77e21"
      },
      "execution_count": 29,
      "outputs": [
        {
          "output_type": "stream",
          "name": "stdout",
          "text": [
            "(3, 3)\n",
            "(3, 2)\n",
            "(2, 4)\n"
          ]
        }
      ]
    },
    {
      "cell_type": "code",
      "source": [
        "O @ E"
      ],
      "metadata": {
        "colab": {
          "base_uri": "https://localhost:8080/"
        },
        "id": "2Qr9SmidMTp5",
        "outputId": "9bfbb17a-9837-467d-c20c-6e126abee94b"
      },
      "execution_count": 30,
      "outputs": [
        {
          "output_type": "execute_result",
          "data": {
            "text/plain": [
              "array([[ 1,  2,  3,  8],\n",
              "       [ 3,  6,  9, 24],\n",
              "       [ 4,  3,  7, 17]])"
            ]
          },
          "metadata": {},
          "execution_count": 30
        }
      ]
    },
    {
      "cell_type": "markdown",
      "source": [
        "If you would notice the shape of the dot product changed and its shape is not the same as any of the matrices we used. The shape of a dot product is actually derived from the shapes of the matrices used. So recall matrix $A$ with a shape of $(a,b)$ and matrix $B$ with a shape of $(b,c)$, $A \\cdot B$ should have a shape $(a,c)$."
      ],
      "metadata": {
        "id": "td8R-fyJMWbI"
      }
    },
    {
      "cell_type": "code",
      "source": [
        "X = np.array([\n",
        "    [1,2,3,0]\n",
        "])\n",
        "Y = np.array([\n",
        "    [1,0,4,-1]\n",
        "])\n",
        "print(X.shape)\n",
        "print(Y.shape)"
      ],
      "metadata": {
        "colab": {
          "base_uri": "https://localhost:8080/"
        },
        "id": "6y_4RqTfMVXP",
        "outputId": "be656b87-d8d9-4438-d189-4b8ed352d16f"
      },
      "execution_count": 31,
      "outputs": [
        {
          "output_type": "stream",
          "name": "stdout",
          "text": [
            "(1, 4)\n",
            "(1, 4)\n"
          ]
        }
      ]
    },
    {
      "cell_type": "code",
      "source": [
        "Y.T @ X"
      ],
      "metadata": {
        "colab": {
          "base_uri": "https://localhost:8080/"
        },
        "id": "iqVmwLAHMbMC",
        "outputId": "169a1845-6135-4d81-8a6b-a8835e8f0ae4"
      },
      "execution_count": 32,
      "outputs": [
        {
          "output_type": "execute_result",
          "data": {
            "text/plain": [
              "array([[ 1,  2,  3,  0],\n",
              "       [ 0,  0,  0,  0],\n",
              "       [ 4,  8, 12,  0],\n",
              "       [-1, -2, -3,  0]])"
            ]
          },
          "metadata": {},
          "execution_count": 32
        }
      ]
    },
    {
      "cell_type": "code",
      "source": [
        "X @ Y.T"
      ],
      "metadata": {
        "colab": {
          "base_uri": "https://localhost:8080/"
        },
        "id": "87P6HLqwMciX",
        "outputId": "c9421248-305b-46d7-868f-429bb4f84f24"
      },
      "execution_count": 33,
      "outputs": [
        {
          "output_type": "execute_result",
          "data": {
            "text/plain": [
              "array([[13]])"
            ]
          },
          "metadata": {},
          "execution_count": 33
        }
      ]
    },
    {
      "cell_type": "markdown",
      "source": [
        "And youcan see that when you try to multiply A and B, it returns `ValueError` pertaining to matrix shape mismatch."
      ],
      "metadata": {
        "id": "TW-I0rITMQC4"
      }
    },
    {
      "cell_type": "markdown",
      "source": [
        "### Rule 2: Dot Product has special properties\n",
        "\n",
        "Dot products are prevalent in matrix algebra, this implies that it has several unique properties and it should be considered when formulation solutions:\n",
        " 1. $A \\cdot B \\neq B \\cdot A$\n",
        " 2. $A \\cdot (B \\cdot C) = (A \\cdot B) \\cdot C$\n",
        " 3. $A\\cdot(B+C) = A\\cdot B + A\\cdot C$\n",
        " 4. $(B+C)\\cdot A = B\\cdot A + C\\cdot A$\n",
        " 5. $A\\cdot I = A$\n",
        " 6. $A\\cdot \\emptyset = \\emptyset$ "
      ],
      "metadata": {
        "id": "Cn16PQO8MgpP"
      }
    },
    {
      "cell_type": "markdown",
      "source": [
        "I'll be doing just one of the properties and I'll leave the rest to test your skills!"
      ],
      "metadata": {
        "id": "I_8QlwLQMkC_"
      }
    },
    {
      "cell_type": "code",
      "source": [
        "A = np.array([\n",
        "    [3,2,1],\n",
        "    [4,5,1],\n",
        "    [1,1,1]\n",
        "])\n",
        "B = np.array([\n",
        "    [4,1,6],\n",
        "    [4,1,9],\n",
        "    [1,4,8]\n",
        "])\n",
        "C = np.array([\n",
        "    [1,1,0],\n",
        "    [0,1,1],\n",
        "    [1,0,1]\n",
        "])"
      ],
      "metadata": {
        "id": "LvwY_4pgMmZ3"
      },
      "execution_count": 34,
      "outputs": []
    },
    {
      "cell_type": "code",
      "source": [
        "np.eye(4)"
      ],
      "metadata": {
        "colab": {
          "base_uri": "https://localhost:8080/"
        },
        "id": "DJ-Y6_ouMocn",
        "outputId": "ea20b2c5-b15a-4cad-b03c-56b8a043ebfc"
      },
      "execution_count": 35,
      "outputs": [
        {
          "output_type": "execute_result",
          "data": {
            "text/plain": [
              "array([[1., 0., 0., 0.],\n",
              "       [0., 1., 0., 0.],\n",
              "       [0., 0., 1., 0.],\n",
              "       [0., 0., 0., 1.]])"
            ]
          },
          "metadata": {},
          "execution_count": 35
        }
      ]
    },
    {
      "cell_type": "code",
      "source": [
        "np.eye(3)"
      ],
      "metadata": {
        "colab": {
          "base_uri": "https://localhost:8080/"
        },
        "id": "b-xheKA1Mp1e",
        "outputId": "30c42559-8d24-4867-d5c6-963db49c9cac"
      },
      "execution_count": 36,
      "outputs": [
        {
          "output_type": "execute_result",
          "data": {
            "text/plain": [
              "array([[1., 0., 0.],\n",
              "       [0., 1., 0.],\n",
              "       [0., 0., 1.]])"
            ]
          },
          "metadata": {},
          "execution_count": 36
        }
      ]
    },
    {
      "cell_type": "code",
      "source": [
        "A.dot(np.eye(3))"
      ],
      "metadata": {
        "colab": {
          "base_uri": "https://localhost:8080/"
        },
        "id": "gsg-gV8LMtr3",
        "outputId": "7581d0ac-5e67-4e99-e1ee-0a90f8fd39f5"
      },
      "execution_count": 37,
      "outputs": [
        {
          "output_type": "execute_result",
          "data": {
            "text/plain": [
              "array([[3., 2., 1.],\n",
              "       [4., 5., 1.],\n",
              "       [1., 1., 1.]])"
            ]
          },
          "metadata": {},
          "execution_count": 37
        }
      ]
    },
    {
      "cell_type": "code",
      "source": [
        "np.array_equal(A@B, B@A)"
      ],
      "metadata": {
        "colab": {
          "base_uri": "https://localhost:8080/"
        },
        "id": "ZtO7FhxOMvbA",
        "outputId": "6963e618-4dce-4124-d976-3a45a95c2207"
      },
      "execution_count": 38,
      "outputs": [
        {
          "output_type": "execute_result",
          "data": {
            "text/plain": [
              "False"
            ]
          },
          "metadata": {},
          "execution_count": 38
        }
      ]
    },
    {
      "cell_type": "code",
      "source": [
        "E = A + (B + C)\n",
        "E"
      ],
      "metadata": {
        "colab": {
          "base_uri": "https://localhost:8080/"
        },
        "id": "TYrCX3sBMxNo",
        "outputId": "e24e9d61-7898-4b90-9025-67d8b1d5bc8d"
      },
      "execution_count": 39,
      "outputs": [
        {
          "output_type": "execute_result",
          "data": {
            "text/plain": [
              "array([[ 8,  4,  7],\n",
              "       [ 8,  7, 11],\n",
              "       [ 3,  5, 10]])"
            ]
          },
          "metadata": {},
          "execution_count": 39
        }
      ]
    },
    {
      "cell_type": "code",
      "source": [
        "E = A @ (B @ C)\n",
        "E"
      ],
      "metadata": {
        "colab": {
          "base_uri": "https://localhost:8080/"
        },
        "id": "ue6I79rcMyow",
        "outputId": "ecd232b4-9bcb-4d12-ae05-138aa4a89696"
      },
      "execution_count": 40,
      "outputs": [
        {
          "output_type": "execute_result",
          "data": {
            "text/plain": [
              "array([[ 65,  30,  53],\n",
              "       [114,  50,  90],\n",
              "       [ 32,  15,  29]])"
            ]
          },
          "metadata": {},
          "execution_count": 40
        }
      ]
    },
    {
      "cell_type": "code",
      "source": [
        "E = (B + C) @ A\n",
        "E"
      ],
      "metadata": {
        "colab": {
          "base_uri": "https://localhost:8080/"
        },
        "id": "AdtL_A5vM0Zx",
        "outputId": "5982a426-531c-40d6-cb77-9a2fd90e014a"
      },
      "execution_count": 41,
      "outputs": [
        {
          "output_type": "execute_result",
          "data": {
            "text/plain": [
              "array([[29, 26, 13],\n",
              "       [30, 28, 16],\n",
              "       [31, 33, 15]])"
            ]
          },
          "metadata": {},
          "execution_count": 41
        }
      ]
    },
    {
      "cell_type": "code",
      "source": [
        "F = (A @ B) @ C\n",
        "F"
      ],
      "metadata": {
        "colab": {
          "base_uri": "https://localhost:8080/"
        },
        "id": "KqBY81VXM2qr",
        "outputId": "dd19da03-d7ce-4fa1-c12e-b0d55909ea1e"
      },
      "execution_count": 42,
      "outputs": [
        {
          "output_type": "execute_result",
          "data": {
            "text/plain": [
              "array([[ 65,  30,  53],\n",
              "       [114,  50,  90],\n",
              "       [ 32,  15,  29]])"
            ]
          },
          "metadata": {},
          "execution_count": 42
        }
      ]
    },
    {
      "cell_type": "code",
      "source": [
        "np.array_equal(E, X)"
      ],
      "metadata": {
        "colab": {
          "base_uri": "https://localhost:8080/"
        },
        "id": "ssCwowUDM5xv",
        "outputId": "70eccee8-b2d3-46e6-a817-81f5008b4f8f"
      },
      "execution_count": 43,
      "outputs": [
        {
          "output_type": "execute_result",
          "data": {
            "text/plain": [
              "False"
            ]
          },
          "metadata": {},
          "execution_count": 43
        }
      ]
    },
    {
      "cell_type": "code",
      "source": [
        "np.array_equal(E, F)"
      ],
      "metadata": {
        "colab": {
          "base_uri": "https://localhost:8080/"
        },
        "id": "l_HHOookM53-",
        "outputId": "094c6334-6eb0-4c2c-bbee-f46d5c3654f8"
      },
      "execution_count": 44,
      "outputs": [
        {
          "output_type": "execute_result",
          "data": {
            "text/plain": [
              "False"
            ]
          },
          "metadata": {},
          "execution_count": 44
        }
      ]
    },
    {
      "cell_type": "code",
      "source": [
        "A @ E"
      ],
      "metadata": {
        "colab": {
          "base_uri": "https://localhost:8080/"
        },
        "id": "D26GpRPNM_Of",
        "outputId": "ee59f2f1-6d3a-49f8-9151-cefaac097e3e"
      },
      "execution_count": 45,
      "outputs": [
        {
          "output_type": "execute_result",
          "data": {
            "text/plain": [
              "array([[178, 167,  86],\n",
              "       [297, 277, 147],\n",
              "       [ 90,  87,  44]])"
            ]
          },
          "metadata": {},
          "execution_count": 45
        }
      ]
    },
    {
      "cell_type": "code",
      "source": [
        "z_mat = np.zeros(A.shape)\n",
        "z_mat"
      ],
      "metadata": {
        "colab": {
          "base_uri": "https://localhost:8080/"
        },
        "id": "5CaQzEqPNAc_",
        "outputId": "875374f0-16b5-4ff6-ab28-b6d6a53ebe50"
      },
      "execution_count": 46,
      "outputs": [
        {
          "output_type": "execute_result",
          "data": {
            "text/plain": [
              "array([[0., 0., 0.],\n",
              "       [0., 0., 0.],\n",
              "       [0., 0., 0.]])"
            ]
          },
          "metadata": {},
          "execution_count": 46
        }
      ]
    },
    {
      "cell_type": "code",
      "source": [
        "a_dot_z = A.dot(np.zeros(A.shape))\n",
        "a_dot_z"
      ],
      "metadata": {
        "colab": {
          "base_uri": "https://localhost:8080/"
        },
        "id": "Eek8tzoiNChH",
        "outputId": "eb1635ed-4242-4948-9c15-7b7845252203"
      },
      "execution_count": 47,
      "outputs": [
        {
          "output_type": "execute_result",
          "data": {
            "text/plain": [
              "array([[0., 0., 0.],\n",
              "       [0., 0., 0.],\n",
              "       [0., 0., 0.]])"
            ]
          },
          "metadata": {},
          "execution_count": 47
        }
      ]
    },
    {
      "cell_type": "code",
      "source": [
        "np.array_equal(a_dot_z,z_mat)"
      ],
      "metadata": {
        "colab": {
          "base_uri": "https://localhost:8080/"
        },
        "id": "Kxu-jL5QNDzn",
        "outputId": "50ca483f-1690-46f4-a3d2-7a03875e4dd1"
      },
      "execution_count": 48,
      "outputs": [
        {
          "output_type": "execute_result",
          "data": {
            "text/plain": [
              "True"
            ]
          },
          "metadata": {},
          "execution_count": 48
        }
      ]
    },
    {
      "cell_type": "code",
      "source": [
        "null_mat = np.empty(A.shape, dtype=float)\n",
        "null = np.array(null_mat,dtype=float)\n",
        "print(null)\n",
        "np.allclose(a_dot_z,null)"
      ],
      "metadata": {
        "colab": {
          "base_uri": "https://localhost:8080/"
        },
        "id": "7yA-ZME0NFbX",
        "outputId": "896d3a0c-9412-4d75-be2d-13b7fcbb57b2"
      },
      "execution_count": 49,
      "outputs": [
        {
          "output_type": "stream",
          "name": "stdout",
          "text": [
            "[[0. 0. 0.]\n",
            " [0. 0. 0.]\n",
            " [0. 0. 0.]]\n"
          ]
        },
        {
          "output_type": "execute_result",
          "data": {
            "text/plain": [
              "True"
            ]
          },
          "metadata": {},
          "execution_count": 49
        }
      ]
    },
    {
      "cell_type": "markdown",
      "source": [
        "## Determinant"
      ],
      "metadata": {
        "id": "3fWkbyo3NHDf"
      }
    },
    {
      "cell_type": "markdown",
      "source": [
        "A determinant is a scalar value derived from a square matrix. The determinant is a fundamental and important value used in matrix algebra. Although it will not be evident in this laboratory on how it can be used practically, but it will be reatly used in future lessons.\n",
        "\n",
        "The determinant of some matrix $A$ is denoted as $det(A)$ or $|A|$. So let's say $A$ is represented as:\n",
        "$$A = \\begin{bmatrix}a_{(0,0)}&a_{(0,1)}\\\\a_{(1,0)}&a_{(1,1)}\\end{bmatrix}$$\n",
        "We can compute for the determinant as:\n",
        "$$|A| = a_{(0,0)}*a_{(1,1)} - a_{(1,0)}*a_{(0,1)}$$\n",
        "So if we have $A$ as:\n",
        "$$A = \\begin{bmatrix}1&4\\\\0&3\\end{bmatrix}, |A| = 3$$\n",
        "\n",
        "But you might wonder how about square matrices beyond the shape $(2,2)$? We can approach this problem by using several methods such as co-factor expansion and the minors method. This can be taught in the lecture of the laboratory but we can achieve the strenuous computation of high-dimensional matrices programmatically using Python. We can achieve this by using `np.linalg.det()`."
      ],
      "metadata": {
        "id": "l8FZ2GxfNI5f"
      }
    },
    {
      "cell_type": "code",
      "source": [
        "A = np.array([\n",
        "    [2,3],\n",
        "    [1,6]\n",
        "])\n",
        "np.linalg.det(A)"
      ],
      "metadata": {
        "colab": {
          "base_uri": "https://localhost:8080/"
        },
        "id": "YRqYsKQnNLVg",
        "outputId": "701354ed-c280-4a68-a8dc-6266d2f3a362"
      },
      "execution_count": 50,
      "outputs": [
        {
          "output_type": "execute_result",
          "data": {
            "text/plain": [
              "9.000000000000002"
            ]
          },
          "metadata": {},
          "execution_count": 50
        }
      ]
    },
    {
      "cell_type": "code",
      "source": [
        "B = np.array([\n",
        "              [2, -3, 4],\n",
        "              [1, 6 ,0],\n",
        "              [-3, 6, 9]\n",
        "])\n",
        "np.linalg.det(B)"
      ],
      "metadata": {
        "colab": {
          "base_uri": "https://localhost:8080/"
        },
        "id": "G3M0A13MNM6Y",
        "outputId": "9bd574a4-641d-4162-b534-f3dec5af35ab"
      },
      "execution_count": 51,
      "outputs": [
        {
          "output_type": "execute_result",
          "data": {
            "text/plain": [
              "230.99999999999994"
            ]
          },
          "metadata": {},
          "execution_count": 51
        }
      ]
    },
    {
      "cell_type": "markdown",
      "source": [
        "### Now other mathematics classes would require you to solve this by hand, and that is great for practicing your memorization and coordination skills but in this class we aim for simplicity and speed so we'll use programming but it's completely fine if you want to try to solve this one by hand."
      ],
      "metadata": {
        "id": "efUekfogNSsI"
      }
    },
    {
      "cell_type": "code",
      "source": [
        "B = np.array([\n",
        "    [2,-3,4,6],\n",
        "    [1,6,0,3],\n",
        "    [-3,6,9,2],\n",
        "    [1,2,3,4]\n",
        "])\n",
        "np.linalg.det(B)"
      ],
      "metadata": {
        "colab": {
          "base_uri": "https://localhost:8080/"
        },
        "id": "dwUHCZScNQbn",
        "outputId": "7cc92b7c-7bcc-4b03-c86d-8245e04328d0"
      },
      "execution_count": 52,
      "outputs": [
        {
          "output_type": "execute_result",
          "data": {
            "text/plain": [
              "-88.00000000000003"
            ]
          },
          "metadata": {},
          "execution_count": 52
        }
      ]
    },
    {
      "cell_type": "markdown",
      "source": [
        "## Inverse"
      ],
      "metadata": {
        "id": "CSJwA6_0NoMZ"
      }
    },
    {
      "cell_type": "markdown",
      "source": [
        "The inverse of a matrix is another fundamental operation in matrix algebra. Determining the inverse of a matrix let us determine if its solvability and its characteristic as a system of linear equation — we'll expand on this in the nect module. Another use of the inverse matrix is solving the problem of divisibility between matrices. Although element-wise division exists but dividing the entire concept of matrices does not exists. Inverse matrices provides a related operation that could have the same concept of \"dividing\" matrices.\n",
        "\n",
        "Now to determine the inverse of a matrix we need to perform several steps. So let's say we have a matrix $M$:\n",
        "$$M = \\begin{bmatrix}1&7\\\\-3&5\\end{bmatrix}$$\n",
        "First, we need to get the determinant of $M$.\n",
        "$$|M| = (1)(5)-(-3)(7) = 26$$\n",
        "Next, we need to reform the matrix into the inverse form:\n",
        "$$M^{-1} = \\frac{1}{|M|} \\begin{bmatrix} m_{(1,1)} & -m_{(0,1)} \\\\ -m_{(1,0)} & m_{(0,0)}\\end{bmatrix}$$\n",
        "So that will be:\n",
        "$$M^{-1} = \\frac{1}{26} \\begin{bmatrix} 5 & -7 \\\\ 3 & 1\\end{bmatrix} = \\begin{bmatrix} \\frac{5}{26} & \\frac{-7}{26} \\\\ \\frac{3}{26} & \\frac{1}{26}\\end{bmatrix}$$\n",
        "For higher-dimension matrices you might need to use co-factors, minors, adjugates, and other reduction techinques. To solve this programmatially we can use `np.linalg.inv()`."
      ],
      "metadata": {
        "id": "SAOUtn53NpoI"
      }
    },
    {
      "cell_type": "code",
      "source": [
        "M = np.array([\n",
        "    [3,6],\n",
        "    [-4, 8]\n",
        "])\n",
        "\n",
        "np.array(M @ np.linalg.inv(M), dtype=int)"
      ],
      "metadata": {
        "colab": {
          "base_uri": "https://localhost:8080/"
        },
        "id": "7BTSUtUJNsRg",
        "outputId": "7c7cadcd-fefd-4d61-e352-8a1c0d9e54b4"
      },
      "execution_count": 53,
      "outputs": [
        {
          "output_type": "execute_result",
          "data": {
            "text/plain": [
              "array([[1, 0],\n",
              "       [0, 1]])"
            ]
          },
          "metadata": {},
          "execution_count": 53
        }
      ]
    },
    {
      "cell_type": "code",
      "source": [
        "P = np.array([\n",
        "              [3, 6, 9],\n",
        "              [-4, 8, 12],\n",
        "              [3, 6, 7]\n",
        "])\n",
        "Q = np.linalg.inv(P)\n",
        "Q"
      ],
      "metadata": {
        "colab": {
          "base_uri": "https://localhost:8080/"
        },
        "id": "JhIweD5INukI",
        "outputId": "6532591d-ccb0-4c87-d8c0-383e7c24614b"
      },
      "execution_count": 54,
      "outputs": [
        {
          "output_type": "execute_result",
          "data": {
            "text/plain": [
              "array([[ 0.16666667, -0.125     , -0.        ],\n",
              "       [-0.66666667,  0.0625    ,  0.75      ],\n",
              "       [ 0.5       , -0.        , -0.5       ]])"
            ]
          },
          "metadata": {},
          "execution_count": 54
        }
      ]
    },
    {
      "cell_type": "code",
      "source": [
        "P @ Q"
      ],
      "metadata": {
        "colab": {
          "base_uri": "https://localhost:8080/"
        },
        "id": "x1xsiSndNwAZ",
        "outputId": "505ca897-36dc-4a5b-f4fa-4ba34eeb0549"
      },
      "execution_count": 55,
      "outputs": [
        {
          "output_type": "execute_result",
          "data": {
            "text/plain": [
              "array([[1.0000000e+00, 0.0000000e+00, 0.0000000e+00],\n",
              "       [0.0000000e+00, 1.0000000e+00, 0.0000000e+00],\n",
              "       [4.4408921e-16, 0.0000000e+00, 1.0000000e+00]])"
            ]
          },
          "metadata": {},
          "execution_count": 55
        }
      ]
    },
    {
      "cell_type": "markdown",
      "source": [
        "## And now let's test your skills in solving a matrix with high dimensions:"
      ],
      "metadata": {
        "id": "Zp5sKkfXNzvJ"
      }
    },
    {
      "cell_type": "code",
      "source": [
        "N = np.array([\n",
        "    [18,5,23,1,0,33,5],\n",
        "    [0,45,0,11,2,4,2],\n",
        "    [5,9,20,0,0,0,3],\n",
        "    [1,6,4,4,8,43,1],\n",
        "    [8,6,8,7,1,6,1],\n",
        "    [-5,15,2,0,0,6,-30],\n",
        "    [-2,-5,1,2,1,20,12],\n",
        "])\n",
        "N_inv = np.linalg.inv(N)\n",
        "np.array(N @ N_inv,dtype=int)"
      ],
      "metadata": {
        "colab": {
          "base_uri": "https://localhost:8080/"
        },
        "id": "QQy_38xmN0Uz",
        "outputId": "fcee3c8a-b50d-48ee-87e6-5dbed7354a1b"
      },
      "execution_count": 56,
      "outputs": [
        {
          "output_type": "execute_result",
          "data": {
            "text/plain": [
              "array([[0, 0, 0, 0, 0, 0, 0],\n",
              "       [0, 0, 0, 0, 0, 0, 0],\n",
              "       [0, 0, 1, 0, 0, 0, 0],\n",
              "       [0, 0, 0, 1, 0, 0, 0],\n",
              "       [0, 0, 0, 0, 0, 0, 0],\n",
              "       [0, 0, 0, 0, 0, 0, 0],\n",
              "       [0, 0, 0, 0, 0, 0, 0]])"
            ]
          },
          "metadata": {},
          "execution_count": 56
        }
      ]
    },
    {
      "cell_type": "markdown",
      "source": [
        "To validate the wether if the matric that you have solved is really the inverse, we follow this dot product property for a matrix $M$:\n",
        "$$M\\cdot M^{-1} = I$$"
      ],
      "metadata": {
        "id": "HI6qUBDJN20Q"
      }
    },
    {
      "cell_type": "code",
      "source": [
        "squad = np.array([\n",
        "    [1.0, 1.0, 0.5],\n",
        "    [0.7, 0.7, 0.9],\n",
        "    [0.3, 0.3, 1.0]\n",
        "])\n",
        "weights = np.array([\n",
        "    [0.2, 0.2, 0.6]\n",
        "])\n",
        "p_grade = squad @ weights.T\n",
        "p_grade\n"
      ],
      "metadata": {
        "colab": {
          "base_uri": "https://localhost:8080/"
        },
        "id": "9tsY3lQhN5GA",
        "outputId": "587a2c45-4f1f-424e-d9c4-530d401c7976"
      },
      "execution_count": 57,
      "outputs": [
        {
          "output_type": "execute_result",
          "data": {
            "text/plain": [
              "array([[0.7 ],\n",
              "       [0.82],\n",
              "       [0.72]])"
            ]
          },
          "metadata": {},
          "execution_count": 57
        }
      ]
    },
    {
      "cell_type": "code",
      "source": [
        ""
      ],
      "metadata": {
        "id": "DAnTx0CCN6z5"
      },
      "execution_count": null,
      "outputs": []
    },
    {
      "cell_type": "markdown",
      "source": [
        "## Activity"
      ],
      "metadata": {
        "id": "T9KRyYgnN8fL"
      }
    },
    {
      "cell_type": "markdown",
      "source": [
        "### Task 1"
      ],
      "metadata": {
        "id": "2G6cCyU1N9b4"
      }
    },
    {
      "cell_type": "markdown",
      "source": [
        "Prove and implement the remaining 6 matrix multiplication properties. You may create your own matrices in which their shapes should not be lower than $(3,3)$.\n",
        "In your methodology, create individual flowcharts for each property and discuss the property you would then present your proofs or validity of your implementation in the results section by comparing your result to present functions from NumPy."
      ],
      "metadata": {
        "id": "SQnKgPrXN__i"
      }
    },
    {
      "cell_type": "markdown",
      "source": [
        "### Dot Product has special properties\n",
        "\n",
        "Dot products are prevalent in matrix algebra, this implies that it has several unique properties and it should be considered when formulation solutions:\n",
        " 1. $A \\cdot B \\neq B \\cdot A$\n",
        " 2. $A \\cdot (B \\cdot C) = (A \\cdot B) \\cdot C$\n",
        " 3. $A\\cdot(B+C) = A\\cdot B + A\\cdot C$\n",
        " 4. $(B+C)\\cdot A = B\\cdot A + C\\cdot A$\n",
        " 5. $A\\cdot I = A$\n",
        " 6. $A\\cdot \\emptyset = \\emptyset$ "
      ],
      "metadata": {
        "id": "Jj7QBi2nqRkw"
      }
    },
    {
      "cell_type": "code",
      "source": [
        "import numpy as np\n",
        "import matplotlib.pyplot as plt\n",
        "%matplotlib inline\n",
        "I = np.array([\n",
        "    [2, 5, 7, 7],\n",
        "    [13, 5, 12, 5],\n",
        "    [3, 5, 21, 15],\n",
        "    [4, 7, 93, 7]\n",
        "])\n",
        "L = np.array([\n",
        "    [23, 5, 6, 3],\n",
        "    [6, 4, 2, 8],\n",
        "    [6, 8, 1, 9],\n",
        "    [17, 7, 12,  8]\n",
        "])\n",
        "Y = np.array([\n",
        "    [12, 2, 5, 6],\n",
        "    [4, 66, 71, 3],\n",
        "    [4, 6, 82, 3],\n",
        "    [17, 67, 22, 19]\n",
        "])\n"
      ],
      "metadata": {
        "id": "cbG4QU_lOA3g"
      },
      "execution_count": 1,
      "outputs": []
    },
    {
      "cell_type": "code",
      "source": [
        "A = I.dot(L)\n",
        "B = L.dot(Y)\n",
        "C = Y.dot(I)\n",
        "D = I.dot(A)\n",
        "F = C.dot(Y)\n",
        "G = I + L\n",
        "H = Y + L\n",
        "I = F + A"
      ],
      "metadata": {
        "id": "ActGASuIqWIj"
      },
      "execution_count": 2,
      "outputs": []
    },
    {
      "cell_type": "code",
      "source": [
        "print('Property 1')\n",
        "{np.array_equiv(I, L)}\n",
        "print('AB=BA')\n",
        "print('Matrix AB:')\n",
        "print(np.matmul(A,B))\n",
        "print('Matrix BA:')\n",
        "print(np.matmul(B,A))\n",
        "print('Approved!')"
      ],
      "metadata": {
        "colab": {
          "base_uri": "https://localhost:8080/"
        },
        "id": "OlXTOZOKrIx6",
        "outputId": "3a446ce2-f6ec-4520-f09d-644d59cff1cf"
      },
      "execution_count": 3,
      "outputs": [
        {
          "output_type": "stream",
          "name": "stdout",
          "text": [
            "Property 1\n",
            "AB=BA\n",
            "Matrix AB:\n",
            "[[ 217380  568518  718570  159603]\n",
            " [ 366610  910350 1176786  263341]\n",
            " [ 458233 1206385 1519570  337812]\n",
            " [ 951884 2498106 3246554  707335]]\n",
            "Matrix BA:\n",
            "[[1064193  690865  424435  787498]\n",
            " [ 936434  583982  352112  657426]\n",
            " [1231485  750637  464705  843086]\n",
            " [1723517 1092711  689431 1241755]]\n",
            "Approved!\n"
          ]
        }
      ]
    },
    {
      "cell_type": "code",
      "source": [
        "print('Property 2')\n",
        "{np.array_equiv(I.dot(L), L.dot(Y))}\n",
        "print('A(BC) = (AB)C')\n",
        "print('Matrix A(BC):')\n",
        "print(np.matmul(I, L))\n",
        "print('Matrix A(BC):')\n",
        "print(np.matmul(L, Y))\n",
        "print('Approved!')"
      ],
      "metadata": {
        "colab": {
          "base_uri": "https://localhost:8080/"
        },
        "id": "jlz_-8FGrMWa",
        "outputId": "7c2555f6-5d80-4c97-82c3-70733ea920b3"
      },
      "execution_count": 4,
      "outputs": [
        {
          "output_type": "stream",
          "name": "stdout",
          "text": [
            "Property 2\n",
            "A(BC) = (AB)C\n",
            "Matrix A(BC):\n",
            "[[ 959998  832308  274713 1013313]\n",
            " [4716105 3626929 1464737 4520023]\n",
            " [3672396 2860862 1146884 3590907]\n",
            " [4380269 3631361 1283925 4418361]]\n",
            "Matrix A(BC):\n",
            "[[ 371  613 1028  228]\n",
            " [ 232  824  654  206]\n",
            " [ 261 1149  878  234]\n",
            " [ 416 1104 1742  311]]\n",
            "Approved!\n"
          ]
        }
      ]
    },
    {
      "cell_type": "code",
      "source": [
        "print('Property 3')\n",
        "{np.array_equiv(C.dot(Y), D)}\n",
        "print('Matrix A(B+C)')\n",
        "print(np.matmul(C, Y))\n",
        "print('Matrix (AB) + (AC):')\n",
        "print(np.add(Y, D))\n",
        "print('Approved!')"
      ],
      "metadata": {
        "colab": {
          "base_uri": "https://localhost:8080/"
        },
        "id": "ru_RgR2ArOZB",
        "outputId": "d63bbe50-3de0-4248-8506-43494617b645"
      },
      "execution_count": 5,
      "outputs": [
        {
          "output_type": "stream",
          "name": "stdout",
          "text": [
            "Property 3\n",
            "Matrix A(B+C)\n",
            "[[  8287  27983  78036   7267]\n",
            " [ 50904 162386 301149  43930]\n",
            " [ 36709 132743 236951  34681]\n",
            " [ 43413 126203 330946  35150]]\n",
            "Matrix (AB) + (AC):\n",
            "[[11953  9395  4139 10704]\n",
            " [15330 10802  6163 12384]\n",
            " [25390 20574  9255 23566]\n",
            " [54684 36650 24396 42289]]\n",
            "Approved!\n"
          ]
        }
      ]
    },
    {
      "cell_type": "code",
      "source": [
        "print('Property 4')\n",
        "{np.array_equiv(I.dot(A), I)}\n",
        "print('(B+C)A = (BA) + (CA)')\n",
        "print('Matrix (B+C)A:')\n",
        "print(np.matmul(I, A))\n",
        "print('Matrix (BA) + (CA):')\n",
        "print(np.add(I, I))\n",
        "print('Approved!')"
      ],
      "metadata": {
        "colab": {
          "base_uri": "https://localhost:8080/"
        },
        "id": "H_Speh9FrQha",
        "outputId": "262d7731-5058-4f02-b8a9-a4abbb2fb64c"
      },
      "execution_count": 6,
      "outputs": [
        {
          "output_type": "stream",
          "name": "stdout",
          "text": [
            "Property 4\n",
            "(B+C)A = (BA) + (CA)\n",
            "Matrix (B+C)A:\n",
            "[[ 59224408  37544432  24956093  42908740]\n",
            " [271643649 171998891 110316906 195693503]\n",
            " [215739608 136278770  87338122 154921681]\n",
            " [260467773 165778683 108924086 189394257]]\n",
            "Matrix (BA) + (CA):\n",
            "[[ 17048  56236 156298  14864]\n",
            " [102780 325204 602618  88314]\n",
            " [ 74378 266102 474360  70078]\n",
            " [ 88448 254088 662322  72222]]\n",
            "Approved!\n"
          ]
        }
      ]
    },
    {
      "cell_type": "code",
      "source": [
        "print('Property 5')\n",
        "{np.array_equiv(Y.dot(1), D)}\n",
        "print('A(1)=A')\n",
        "print('Matrix A(1):')\n",
        "print(np.multiply(Y, 1))\n",
        "print('Matrix A:')\n",
        "print(D)\n",
        "print('Approved!')"
      ],
      "metadata": {
        "colab": {
          "base_uri": "https://localhost:8080/"
        },
        "id": "6N9SaCR9roLC",
        "outputId": "510c6e8b-1406-4dd3-9f95-db2c09eefbfb"
      },
      "execution_count": 7,
      "outputs": [
        {
          "output_type": "stream",
          "name": "stdout",
          "text": [
            "Property 5\n",
            "A(1)=A\n",
            "Matrix A(1):\n",
            "[[12  2  5  6]\n",
            " [ 4 66 71  3]\n",
            " [ 4  6 82  3]\n",
            " [17 67 22 19]]\n",
            "Matrix A:\n",
            "[[11941  9393  4134 10698]\n",
            " [15326 10736  6092 12381]\n",
            " [25386 20568  9173 23563]\n",
            " [54667 36583 24374 42270]]\n",
            "Approved!\n"
          ]
        }
      ]
    },
    {
      "cell_type": "code",
      "source": [
        "print('Property 6')\n",
        "{np.array_equiv(L.dot(0), 0)}\n",
        "print('A(0)=0')\n",
        "print('Matrix A(0):')\n",
        "print(np.multiply(A, 0))\n",
        "print('Approved!')"
      ],
      "metadata": {
        "colab": {
          "base_uri": "https://localhost:8080/"
        },
        "id": "W07pBSROrqGo",
        "outputId": "31dbca83-2034-4623-8f98-c5a0f6027a56"
      },
      "execution_count": 8,
      "outputs": [
        {
          "output_type": "stream",
          "name": "stdout",
          "text": [
            "Property 6\n",
            "A(0)=0\n",
            "Matrix A(0):\n",
            "[[0 0 0 0]\n",
            " [0 0 0 0]\n",
            " [0 0 0 0]\n",
            " [0 0 0 0]]\n",
            "Approved!\n"
          ]
        }
      ]
    }
  ]
}