{
  "nbformat": 4,
  "nbformat_minor": 0,
  "metadata": {
    "colab": {
      "name": "Assignment 10.ipynb",
      "provenance": [],
      "collapsed_sections": [],
      "authorship_tag": "ABX9TyPs7xzDipCv3Or1SL8mCxwv",
      "include_colab_link": true
    },
    "kernelspec": {
      "name": "python3",
      "display_name": "Python 3"
    },
    "language_info": {
      "name": "python"
    }
  },
  "cells": [
    {
      "cell_type": "markdown",
      "metadata": {
        "id": "view-in-github",
        "colab_type": "text"
      },
      "source": [
        "<a href=\"https://colab.research.google.com/github/StephanyLera/Linear-Algebra_2nd-Sem/blob/main/Assignment_10.ipynb\" target=\"_parent\"><img src=\"https://colab.research.google.com/assets/colab-badge.svg\" alt=\"Open In Colab\"/></a>"
      ]
    },
    {
      "cell_type": "markdown",
      "source": [
        "# Linear Algebra for ECE\n",
        "## Laboratory 10 : Linear Combination and Vector Spaces"
      ],
      "metadata": {
        "id": "uwN7nL4D9i94"
      }
    },
    {
      "cell_type": "markdown",
      "source": [
        "Now that you have a fundamental knowledge about linear combination, we'll try to visualize it using scientific programming."
      ],
      "metadata": {
        "id": "Th6wps5T9pU-"
      }
    },
    {
      "cell_type": "markdown",
      "source": [
        "### Objectives\n",
        "At the end of this activity you will be able to:\n",
        "1. Be familiar with representing linear combinations in the 2-dimensional plane.\n",
        "2. Visualize spans using vector fields in Python.\n",
        "3. Perform vector fields operations using scientific programming."
      ],
      "metadata": {
        "id": "FTN-vBDv9qOG"
      }
    },
    {
      "cell_type": "markdown",
      "source": [
        "## Discussion"
      ],
      "metadata": {
        "id": "8pcjaP-Y9uHE"
      }
    },
    {
      "cell_type": "code",
      "source": [
        "import numpy as np\n",
        "import matplotlib.pyplot as plt\n",
        "%matplotlib inline"
      ],
      "metadata": {
        "id": "pGPuSB629yB4"
      },
      "execution_count": 4,
      "outputs": []
    },
    {
      "cell_type": "markdown",
      "source": [
        "## Linear Combination"
      ],
      "metadata": {
        "id": "YPTVZepaNf_o"
      }
    },
    {
      "cell_type": "markdown",
      "source": [
        "It is said that a linear combination is the combination of linear scaling and addition of a vector its bases/components"
      ],
      "metadata": {
        "id": "WOUB5LCNNiiy"
      }
    },
    {
      "cell_type": "markdown",
      "source": [
        "We will try to visualize the vectors and their linear combinations by plotting a sample of real number values for the scalars for the vectors. Let's first try the vectors below:"
      ],
      "metadata": {
        "id": "ow5XYsNkNks7"
      }
    },
    {
      "cell_type": "markdown",
      "source": [
        "$$X = \\begin{bmatrix} 2\\\\5 \\\\\\end{bmatrix} , Y = \\begin{bmatrix} 7\\\\9 \\\\\\end{bmatrix} $$"
      ],
      "metadata": {
        "id": "nOPIvEfRNm5c"
      }
    },
    {
      "cell_type": "code",
      "source": [
        "vectX =  np.array([2,5])\n",
        "vectY =  np.array([7,9])"
      ],
      "metadata": {
        "id": "UX3yn4rzNsEF"
      },
      "execution_count": 5,
      "outputs": []
    },
    {
      "cell_type": "markdown",
      "source": [
        "#### Span of single vectors"
      ],
      "metadata": {
        "id": "vcJ2jRTRpvCq"
      }
    },
    {
      "cell_type": "markdown",
      "source": [
        "As discussed in the lecture, the span of individual vectors can be represented by a line span. Let's take vector $X$ as an example."
      ],
      "metadata": {
        "id": "VGqMrmskpw9B"
      }
    },
    {
      "cell_type": "markdown",
      "source": [
        "$$X = c\\cdot \\begin{bmatrix} 2\\\\5 \\\\\\end{bmatrix} $$"
      ],
      "metadata": {
        "id": "TovGk_VVpywr"
      }
    },
    {
      "cell_type": "code",
      "source": [
        "c = np.arange(-10,10,0.125)\n",
        "\n",
        "plt.scatter(c*vectX[0],c*vectX[1])\n",
        "\n",
        "plt.xlim(-10,10)\n",
        "plt.ylim(-10,10)\n",
        "plt.axhline(y=0, color='k')\n",
        "plt.axvline(x=0, color='k')\n",
        "plt.grid()\n",
        "plt.show()"
      ],
      "metadata": {
        "colab": {
          "base_uri": "https://localhost:8080/",
          "height": 269
        },
        "id": "EyHrx6Zxp7dS",
        "outputId": "d3775bdb-0adb-4a02-fd8c-4736e04477f4"
      },
      "execution_count": 6,
      "outputs": [
        {
          "output_type": "display_data",
          "data": {
            "text/plain": [
              "<Figure size 432x288 with 1 Axes>"
            ],
            "image/png": "[encoded data removed]"
          },
          "metadata": {
            "needs_background": "light"
          }
        }
      ]
    },
    {
      "cell_type": "code",
      "source": [
        "c = np.arange(-15,15,0.5)\n",
        "\n",
        "plt.scatter(c*vectY[0],c*vectY[1])\n",
        "\n",
        "plt.xlim(-20,20)\n",
        "plt.ylim(-20,20)\n",
        "plt.axhline(y=0, color='k')\n",
        "plt.axvline(x=0, color='k')\n",
        "plt.grid()\n",
        "plt.show()"
      ],
      "metadata": {
        "colab": {
          "base_uri": "https://localhost:8080/",
          "height": 269
        },
        "id": "sFu0Vr5pqG6j",
        "outputId": "8aa0d28d-800e-406d-c244-f8f91f434e17"
      },
      "execution_count": 7,
      "outputs": [
        {
          "output_type": "display_data",
          "data": {
            "text/plain": [
              "<Figure size 432x288 with 1 Axes>"
            ],
            "image/png": "[encoded data removed]"
          },
          "metadata": {
            "needs_background": "light"
          }
        }
      ]
    },
    {
      "cell_type": "markdown",
      "source": [
        "### Span of a linear combination of vectors"
      ],
      "metadata": {
        "id": "RQOnVQyjqJOY"
      }
    },
    {
      "cell_type": "markdown",
      "source": [
        "So what if we are to plot the span of a linear combination of vectors? We can visualize as a plane on the 2-dimensional coordinate system. Let's take the span of the linear combination below:"
      ],
      "metadata": {
        "id": "8a2KoJXrqLMR"
      }
    },
    {
      "cell_type": "markdown",
      "source": [
        "$$S = \\begin{Bmatrix} c_1 \\cdot\\begin{bmatrix} 1\\\\0 \\\\\\end{bmatrix}, \n",
        "c_2 \\cdot \\begin{bmatrix} 1\\\\-1 \\\\\\end{bmatrix}\\end{Bmatrix} $$"
      ],
      "metadata": {
        "id": "1rm7luSxqOUJ"
      }
    },
    {
      "cell_type": "code",
      "source": [
        "vectA = np.array([1,0])\n",
        "vectB = np.array([1,-1])\n",
        "\n",
        "R = np.arange(-10,10,1)\n",
        "\n",
        "c1, c2 = np.meshgrid(R,R)\n",
        "\n",
        "vectR = vectA + vectB\n",
        "spanRx = c1*vectA[0] + c2*vectB[0]\n",
        "spanRy = c1*vectA[1] + c2*vectB[1]\n",
        "##plt.scatter(R*vectA[0],R*vectA[1])\n",
        "##plt.scatter(R*vectB[0],R*vectB[1])\n",
        "plt.scatter(spanRx,spanRy, s=5, alpha=0.75)\n",
        "\n",
        "plt.axhline(y=0, color='k')\n",
        "plt.axvline(x=0, color='k')\n",
        "plt.grid()\n",
        "plt.show()"
      ],
      "metadata": {
        "colab": {
          "base_uri": "https://localhost:8080/",
          "height": 265
        },
        "id": "6udtpcf-qPMZ",
        "outputId": "0d3a495e-ed3d-4b15-8370-a9b0199efa4a"
      },
      "execution_count": 8,
      "outputs": [
        {
          "output_type": "display_data",
          "data": {
            "text/plain": [
              "<Figure size 432x288 with 1 Axes>"
            ],
            "image/png": "[encoded data removed]"
          },
          "metadata": {
            "needs_background": "light"
          }
        }
      ]
    },
    {
      "cell_type": "code",
      "source": [
        "vectP = np.array([2,1])\n",
        "vectQ = np.array([4,3])\n",
        "\n",
        "R = np.arange(-10,10,1)\n",
        "\n",
        "c1, c2 = np.meshgrid(R,R)\n",
        "\n",
        "vectR = vectP + vectQ\n",
        "spanRx = c1*vectP[0] + c2*vectQ[0]\n",
        "spanRy = c1*vectP[1] + c2*vectQ[1]\n",
        "##plt.scatter(R*vectA[0],R*vectA[1])\n",
        "##plt.scatter(R*vectB[0],R*vectB[1])\n",
        "plt.scatter(spanRx,spanRy, s=5, alpha=0.75)\n",
        "\n",
        "plt.axhline(y=0, color='k')\n",
        "plt.axvline(x=0, color='k')\n",
        "plt.grid()\n",
        "plt.show()"
      ],
      "metadata": {
        "colab": {
          "base_uri": "https://localhost:8080/",
          "height": 265
        },
        "id": "cV_65S3tqRwq",
        "outputId": "ccbeb532-9325-49fd-a79d-43af7ca858ab"
      },
      "execution_count": 9,
      "outputs": [
        {
          "output_type": "display_data",
          "data": {
            "text/plain": [
              "<Figure size 432x288 with 1 Axes>"
            ],
            "image/png": "[encoded data removed]"
          },
          "metadata": {
            "needs_background": "light"
          }
        }
      ]
    },
    {
      "cell_type": "markdown",
      "source": [
        "Take note that if vectors are seen to be as a 2-dimensional span we can say it has a Rank of 2 or $\\mathbb{R}^2$. But if the span of the linear combination of vectors are seen to be like a line, they are said to be <b> linearly dependent </b> and they have a rank of 1 or $\\mathbb{R}^1$."
      ],
      "metadata": {
        "id": "2NlAWA_gqUDr"
      }
    },
    {
      "cell_type": "markdown",
      "source": [
        "# Activity"
      ],
      "metadata": {
        "id": "zPS0XTf1P8nv"
      }
    },
    {
      "cell_type": "markdown",
      "source": [
        "### Task 1"
      ],
      "metadata": {
        "id": "SfCl6N7AP_ZA"
      }
    },
    {
      "cell_type": "markdown",
      "source": [
        "Try different linear combinations using different scalar values. In your methodology discuss the different functions that you have used, the  linear equation and vector form of the linear combination, and the flowchart for declaring and displaying linear combinations. Please make sure that your flowchart has only few words and not putting the entire code as it is bad practice. In your results, display and discuss the linear combination visualization you made. You should use the cells below for displaying the equation markdows using LaTeX and your code."
      ],
      "metadata": {
        "id": "DhSH5TgtQBsf"
      }
    },
    {
      "cell_type": "markdown",
      "source": [
        "$$\n",
        "Space \\cdot for \\cdot the \\cdot general \\cdot linear \\cdot equation \\cdot form\n",
        "$$"
      ],
      "metadata": {
        "id": "8H4825jGQGGf"
      }
    },
    {
      "cell_type": "markdown",
      "source": [
        "$$Space \\cdot for \\cdot the \\cdot vector \\cdot form$$"
      ],
      "metadata": {
        "id": "5JfXgYgJQJen"
      }
    },
    {
      "cell_type": "markdown",
      "source": [
        "### TYPE YOU CODE FOR TASK 1 HERE"
      ],
      "metadata": {
        "id": "ZCKyQlBKQRL_"
      }
    },
    {
      "cell_type": "markdown",
      "source": [
        "$$\n",
        "A = 10x \\\\ B = 8x + 5y \n",
        "$$"
      ],
      "metadata": {
        "id": "wP6VCIdWQRyA"
      }
    },
    {
      "cell_type": "markdown",
      "source": [
        "$$ A = \\begin{bmatrix} 10\\end{bmatrix} , B = \\begin{bmatrix} 8 \\\\ 5\\end{bmatrix}\n",
        "$$\n",
        "$$ A = \\begin{bmatrix} 10\\end{bmatrix} , B = \\begin{bmatrix} 8 & 5\\end{bmatrix}\n",
        "$$"
      ],
      "metadata": {
        "id": "SSMJ38FhQVeQ"
      }
    },
    {
      "cell_type": "code",
      "source": [
        "vectC = np.array([30,25])\n",
        "vectD = np.array([45,-50])\n",
        "\n",
        "R = np.arange(-10,10,1)\n",
        "\n",
        "c1, c2 = np.meshgrid(R,R)\n",
        "\n",
        "vectR = vectC + vectD\n",
        "spanRx = c1*vectA[0] + c2*vectB[0]\n",
        "spanRy = c1*vectA[1] + c2*vectB[1]\n",
        "##plt.scatter(R*vectC[0],R*vectC[1])\n",
        "##plt.scatter(R*vectD[0],R*vectD[1])\n",
        "plt.scatter(spanRx,spanRy, s=5, alpha=0.75, color = 'green')\n",
        "\n",
        "plt.axhline(y=0, color='magenta')\n",
        "plt.axvline(x=0, color='magenta')\n",
        "plt.grid()\n",
        "plt.show()"
      ],
      "metadata": {
        "colab": {
          "base_uri": "https://localhost:8080/",
          "height": 265
        },
        "id": "rlR1lQCyQX1A",
        "outputId": "d14e7d84-de5f-4211-a5f6-15b5ed1fff9b"
      },
      "execution_count": 10,
      "outputs": [
        {
          "output_type": "display_data",
          "data": {
            "text/plain": [
              "<Figure size 432x288 with 1 Axes>"
            ],
            "image/png": "[encoded data removed]"
          },
          "metadata": {
            "needs_background": "light"
          }
        }
      ]
    }
  ]
}