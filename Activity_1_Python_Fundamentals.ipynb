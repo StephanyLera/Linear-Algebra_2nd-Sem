{
  "nbformat": 4,
  "nbformat_minor": 0,
  "metadata": {
    "colab": {
      "name": "Activity 1- Python Fundamentals",
      "provenance": [],
      "authorship_tag": "ABX9TyNB1rMjqBt/A5uC+H1TVf6q",
      "include_colab_link": true
    },
    "kernelspec": {
      "name": "python3",
      "display_name": "Python 3"
    },
    "language_info": {
      "name": "python"
    }
  },
  "cells": [
    {
      "cell_type": "markdown",
      "metadata": {
        "id": "view-in-github",
        "colab_type": "text"
      },
      "source": [
        "<a href=\"https://colab.research.google.com/github/StephanyLera/Linear-Algebra_2nd-Sem/blob/main/Activity_1_Python_Fundamentals.ipynb\" target=\"_parent\"><img src=\"https://colab.research.google.com/assets/colab-badge.svg\" alt=\"Open In Colab\"/></a>"
      ]
    },
    {
      "cell_type": "code",
      "execution_count": null,
      "metadata": {
        "id": "LP0wuO0osmWB"
      },
      "outputs": [],
      "source": [
        ""
      ]
    },
    {
      "cell_type": "markdown",
      "source": [
        "# Welcome to Python Fundamentals\n",
        "In this module, we are going to establish or review our skills in Python programming. In this notebook we are going to cover:\n",
        "* Variables and Data Types \n",
        "* Operations\n",
        "* Input and Output Operations\n",
        "* Logic Control\n",
        "* Iterables\n",
        "* Functions\n",
        "\n",
        "## Variable and Data Types"
      ],
      "metadata": {
        "id": "sZQVdZIZtf7U"
      }
    },
    {
      "cell_type": "code",
      "source": [
        "x=1\n",
        "a,b=0, -1\n",
        "b"
      ],
      "metadata": {
        "colab": {
          "base_uri": "https://localhost:8080/"
        },
        "id": "N1VM7rIbupzh",
        "outputId": "bb28525a-ff9b-46fa-ea93-70a8eae497ac"
      },
      "execution_count": null,
      "outputs": [
        {
          "output_type": "execute_result",
          "data": {
            "text/plain": [
              "-1"
            ]
          },
          "metadata": {},
          "execution_count": 1
        }
      ]
    },
    {
      "cell_type": "code",
      "source": [
        "x=2\n",
        "x"
      ],
      "metadata": {
        "colab": {
          "base_uri": "https://localhost:8080/"
        },
        "id": "NAZDDoLNu-vW",
        "outputId": "3a71d4bf-f445-493f-dc12-20cf9505311d"
      },
      "execution_count": null,
      "outputs": [
        {
          "output_type": "execute_result",
          "data": {
            "text/plain": [
              "2"
            ]
          },
          "metadata": {},
          "execution_count": 2
        }
      ]
    },
    {
      "cell_type": "code",
      "source": [
        "type(x)"
      ],
      "metadata": {
        "colab": {
          "base_uri": "https://localhost:8080/"
        },
        "id": "xlgGBjhRvqYn",
        "outputId": "2bd121dc-1687-4063-e63b-56feb08fba15"
      },
      "execution_count": null,
      "outputs": [
        {
          "output_type": "execute_result",
          "data": {
            "text/plain": [
              "int"
            ]
          },
          "metadata": {},
          "execution_count": 3
        }
      ]
    },
    {
      "cell_type": "code",
      "source": [
        "y=1.0\n",
        "type(y)"
      ],
      "metadata": {
        "colab": {
          "base_uri": "https://localhost:8080/"
        },
        "id": "edm4VAwqwEVn",
        "outputId": "4c1dd667-024f-4d27-ab12-6dcd0296d1cd"
      },
      "execution_count": null,
      "outputs": [
        {
          "output_type": "execute_result",
          "data": {
            "text/plain": [
              "float"
            ]
          },
          "metadata": {},
          "execution_count": 4
        }
      ]
    },
    {
      "cell_type": "code",
      "source": [
        "s,t,u = \"0\", '1', 'one'\n",
        "type(t)"
      ],
      "metadata": {
        "colab": {
          "base_uri": "https://localhost:8080/"
        },
        "id": "Ie226Mzmw-zA",
        "outputId": "d5cfa539-fa2d-43d3-8782-18c998812017"
      },
      "execution_count": null,
      "outputs": [
        {
          "output_type": "execute_result",
          "data": {
            "text/plain": [
              "str"
            ]
          },
          "metadata": {},
          "execution_count": 5
        }
      ]
    },
    {
      "cell_type": "code",
      "source": [
        "s_int = int(s)\n",
        "s_int"
      ],
      "metadata": {
        "colab": {
          "base_uri": "https://localhost:8080/"
        },
        "id": "p54K1kBuxeiJ",
        "outputId": "30a9b601-b036-43fb-a34a-01411b38f174"
      },
      "execution_count": null,
      "outputs": [
        {
          "output_type": "execute_result",
          "data": {
            "text/plain": [
              "0"
            ]
          },
          "metadata": {},
          "execution_count": 6
        }
      ]
    },
    {
      "cell_type": "markdown",
      "source": [
        "##Operations\n"
      ],
      "metadata": {
        "id": "SQyRAALAyZvB"
      }
    },
    {
      "cell_type": "markdown",
      "source": [
        "###Arithmetic\n"
      ],
      "metadata": {
        "id": "14mlaqMWyoAn"
      }
    },
    {
      "cell_type": "code",
      "source": [
        "a,b,c,d = 2.0, -0.5, 0, -32"
      ],
      "metadata": {
        "id": "tEs-gdjqyp3O"
      },
      "execution_count": null,
      "outputs": []
    },
    {
      "cell_type": "code",
      "source": [
        "###Addition\n",
        "S = a+b\n",
        "S"
      ],
      "metadata": {
        "colab": {
          "base_uri": "https://localhost:8080/"
        },
        "id": "sROJQvLAy2A2",
        "outputId": "7ad67fc4-c3b3-4cd6-a2cf-a9d23a5b5551"
      },
      "execution_count": null,
      "outputs": [
        {
          "output_type": "execute_result",
          "data": {
            "text/plain": [
              "1.5"
            ]
          },
          "metadata": {},
          "execution_count": 8
        }
      ]
    },
    {
      "cell_type": "code",
      "source": [
        "###Subtraction\n",
        "D = b-d\n",
        "D"
      ],
      "metadata": {
        "colab": {
          "base_uri": "https://localhost:8080/"
        },
        "id": "MDRwUgfHzsMX",
        "outputId": "1a12bb94-08aa-435c-8305-2eafe047f89f"
      },
      "execution_count": null,
      "outputs": [
        {
          "output_type": "execute_result",
          "data": {
            "text/plain": [
              "31.5"
            ]
          },
          "metadata": {},
          "execution_count": 9
        }
      ]
    },
    {
      "cell_type": "code",
      "source": [
        "###Multiplication\n",
        "P = a*d\n",
        "P"
      ],
      "metadata": {
        "colab": {
          "base_uri": "https://localhost:8080/"
        },
        "id": "uTklFdZ0zxUq",
        "outputId": "8d282d7a-de52-4116-b83c-06a79a5ef615"
      },
      "execution_count": null,
      "outputs": [
        {
          "output_type": "execute_result",
          "data": {
            "text/plain": [
              "-64.0"
            ]
          },
          "metadata": {},
          "execution_count": 10
        }
      ]
    },
    {
      "cell_type": "code",
      "source": [
        "###Division\n",
        "Q =c/a\n",
        "Q"
      ],
      "metadata": {
        "colab": {
          "base_uri": "https://localhost:8080/"
        },
        "id": "82bu-ICdz5Ut",
        "outputId": "5e69195f-86df-4904-dbfa-2d75cd034532"
      },
      "execution_count": null,
      "outputs": [
        {
          "output_type": "execute_result",
          "data": {
            "text/plain": [
              "0.0"
            ]
          },
          "metadata": {},
          "execution_count": 11
        }
      ]
    },
    {
      "cell_type": "code",
      "source": [
        "###Floor Division\n",
        "Fq = a//b\n",
        "Fq"
      ],
      "metadata": {
        "colab": {
          "base_uri": "https://localhost:8080/"
        },
        "id": "R4z-ApAv0NP-",
        "outputId": "948b4368-238a-47fb-fe84-885bde6923a4"
      },
      "execution_count": null,
      "outputs": [
        {
          "output_type": "execute_result",
          "data": {
            "text/plain": [
              "-4.0"
            ]
          },
          "metadata": {},
          "execution_count": 12
        }
      ]
    },
    {
      "cell_type": "code",
      "source": [
        "###Exponentiation\n",
        "E = a**b\n",
        "E"
      ],
      "metadata": {
        "colab": {
          "base_uri": "https://localhost:8080/"
        },
        "id": "6jou6DG10YD_",
        "outputId": "0f05b6e9-c714-447f-e784-f2f1eb2ba804"
      },
      "execution_count": null,
      "outputs": [
        {
          "output_type": "execute_result",
          "data": {
            "text/plain": [
              "0.7071067811865476"
            ]
          },
          "metadata": {},
          "execution_count": 13
        }
      ]
    },
    {
      "cell_type": "code",
      "source": [
        "###Modulo\n",
        "mod = d%a\n",
        "mod"
      ],
      "metadata": {
        "colab": {
          "base_uri": "https://localhost:8080/"
        },
        "id": "U84tZZ6t1c-X",
        "outputId": "0a3f6af7-928e-4433-8a2b-2a69c20588e9"
      },
      "execution_count": null,
      "outputs": [
        {
          "output_type": "execute_result",
          "data": {
            "text/plain": [
              "0.0"
            ]
          },
          "metadata": {},
          "execution_count": 14
        }
      ]
    },
    {
      "cell_type": "markdown",
      "source": [
        "###Assignment Operations"
      ],
      "metadata": {
        "id": "FgXR3T5y2LGN"
      }
    },
    {
      "cell_type": "code",
      "source": [
        "G, H, J, K = 0, 100, 2, 3"
      ],
      "metadata": {
        "id": "vcl6Wpsw2RoG"
      },
      "execution_count": null,
      "outputs": []
    },
    {
      "cell_type": "code",
      "source": [
        "G +=   a\n",
        "G"
      ],
      "metadata": {
        "colab": {
          "base_uri": "https://localhost:8080/"
        },
        "id": "5G_x1Tku2YDV",
        "outputId": "089eb992-075f-4fcd-9485-d9141a0ddcf0"
      },
      "execution_count": null,
      "outputs": [
        {
          "output_type": "execute_result",
          "data": {
            "text/plain": [
              "2.0"
            ]
          },
          "metadata": {},
          "execution_count": 16
        }
      ]
    },
    {
      "cell_type": "code",
      "source": [
        "H -=d\n",
        "H"
      ],
      "metadata": {
        "colab": {
          "base_uri": "https://localhost:8080/"
        },
        "id": "_4ONLqZO2zgq",
        "outputId": "d561271d-5bb5-48b3-f6af-3c794e159d52"
      },
      "execution_count": null,
      "outputs": [
        {
          "output_type": "execute_result",
          "data": {
            "text/plain": [
              "132"
            ]
          },
          "metadata": {},
          "execution_count": 17
        }
      ]
    },
    {
      "cell_type": "code",
      "source": [
        "J *= 2\n",
        "J"
      ],
      "metadata": {
        "colab": {
          "base_uri": "https://localhost:8080/"
        },
        "id": "lpwkCTfp3M6t",
        "outputId": "8e2457e5-7d44-40db-88fc-61dee06a613c"
      },
      "execution_count": null,
      "outputs": [
        {
          "output_type": "execute_result",
          "data": {
            "text/plain": [
              "4"
            ]
          },
          "metadata": {},
          "execution_count": 18
        }
      ]
    },
    {
      "cell_type": "code",
      "source": [
        "K **= 2\n",
        "K"
      ],
      "metadata": {
        "colab": {
          "base_uri": "https://localhost:8080/"
        },
        "id": "4p6pOcEY3gg4",
        "outputId": "6515dc15-3be6-4bed-dc7d-f2b0167fd5de"
      },
      "execution_count": null,
      "outputs": [
        {
          "output_type": "execute_result",
          "data": {
            "text/plain": [
              "9"
            ]
          },
          "metadata": {},
          "execution_count": 19
        }
      ]
    },
    {
      "cell_type": "markdown",
      "source": [
        "###Comparators"
      ],
      "metadata": {
        "id": "36X4ipz932QH"
      }
    },
    {
      "cell_type": "code",
      "source": [
        "res_1, res_2, res_3 = 1, 2.0, \"1\"\n",
        "true_val = 1.0"
      ],
      "metadata": {
        "id": "YjzhgteH35Vt"
      },
      "execution_count": null,
      "outputs": []
    },
    {
      "cell_type": "code",
      "source": [
        "## Equality\n",
        "res_1 == true_val"
      ],
      "metadata": {
        "colab": {
          "base_uri": "https://localhost:8080/"
        },
        "id": "KWpbYHZ54CKW",
        "outputId": "368463c7-f094-408f-8f82-69fee63e59e9"
      },
      "execution_count": null,
      "outputs": [
        {
          "output_type": "execute_result",
          "data": {
            "text/plain": [
              "True"
            ]
          },
          "metadata": {},
          "execution_count": 21
        }
      ]
    },
    {
      "cell_type": "code",
      "source": [
        "## Non-equality\n",
        "res_2 != true_val"
      ],
      "metadata": {
        "colab": {
          "base_uri": "https://localhost:8080/"
        },
        "id": "XZK2c_Vj4R1x",
        "outputId": "013ba98e-b7c1-4bb9-e80a-dc32f17480c3"
      },
      "execution_count": null,
      "outputs": [
        {
          "output_type": "execute_result",
          "data": {
            "text/plain": [
              "True"
            ]
          },
          "metadata": {},
          "execution_count": 22
        }
      ]
    },
    {
      "cell_type": "code",
      "source": [
        "## Inequality\n",
        "t1 = res_1 > res_2\n",
        "t2 = res_1 < res_2\n",
        "t3 = res_1 >= res_2/2\n",
        "t4 = res_1 <= res_2\n",
        "t2"
      ],
      "metadata": {
        "colab": {
          "base_uri": "https://localhost:8080/"
        },
        "id": "gvmiYgY54dXl",
        "outputId": "b77fd64b-0c74-4f9d-9593-3910b1122050"
      },
      "execution_count": null,
      "outputs": [
        {
          "output_type": "execute_result",
          "data": {
            "text/plain": [
              "True"
            ]
          },
          "metadata": {},
          "execution_count": 23
        }
      ]
    },
    {
      "cell_type": "markdown",
      "source": [
        "###Logical"
      ],
      "metadata": {
        "id": "y0z23wYd51aW"
      }
    },
    {
      "cell_type": "code",
      "source": [
        "res_1 == true_val\n"
      ],
      "metadata": {
        "colab": {
          "base_uri": "https://localhost:8080/"
        },
        "id": "iagufnaI6Gae",
        "outputId": "8cf62160-9058-453c-de55-b7bf8520d5ab"
      },
      "execution_count": null,
      "outputs": [
        {
          "output_type": "execute_result",
          "data": {
            "text/plain": [
              "True"
            ]
          },
          "metadata": {},
          "execution_count": 24
        }
      ]
    },
    {
      "cell_type": "code",
      "source": [
        "res_1 is true_val"
      ],
      "metadata": {
        "colab": {
          "base_uri": "https://localhost:8080/"
        },
        "id": "1ctvTioL6JDq",
        "outputId": "efef4635-91ae-48a5-c598-5960d20828e4"
      },
      "execution_count": null,
      "outputs": [
        {
          "output_type": "execute_result",
          "data": {
            "text/plain": [
              "False"
            ]
          },
          "metadata": {},
          "execution_count": 25
        }
      ]
    },
    {
      "cell_type": "code",
      "source": [
        "res_1 is not true_val"
      ],
      "metadata": {
        "colab": {
          "base_uri": "https://localhost:8080/"
        },
        "id": "sDrMIh236dCl",
        "outputId": "d1aa8a9f-8c43-4ff1-faf8-9dbc72fce6b7"
      },
      "execution_count": null,
      "outputs": [
        {
          "output_type": "execute_result",
          "data": {
            "text/plain": [
              "True"
            ]
          },
          "metadata": {},
          "execution_count": 26
        }
      ]
    },
    {
      "cell_type": "code",
      "source": [
        "p, q = True, False\n",
        "conj = p and q\n",
        "conj"
      ],
      "metadata": {
        "colab": {
          "base_uri": "https://localhost:8080/"
        },
        "id": "8HVW7v0f6fHU",
        "outputId": "28edab58-b4e7-4278-9484-37b8982331ec"
      },
      "execution_count": null,
      "outputs": [
        {
          "output_type": "execute_result",
          "data": {
            "text/plain": [
              "False"
            ]
          },
          "metadata": {},
          "execution_count": 27
        }
      ]
    },
    {
      "cell_type": "code",
      "source": [
        "p, q = False, False\n",
        "disj = not(p and q)\n",
        "disj\n"
      ],
      "metadata": {
        "colab": {
          "base_uri": "https://localhost:8080/"
        },
        "id": "SfByi6uF7lnu",
        "outputId": "0cf8e146-03e3-4b3d-b749-8d31c2fbd94d"
      },
      "execution_count": null,
      "outputs": [
        {
          "output_type": "execute_result",
          "data": {
            "text/plain": [
              "True"
            ]
          },
          "metadata": {},
          "execution_count": 28
        }
      ]
    },
    {
      "cell_type": "code",
      "source": [
        "p, q = True, False\n",
        "e = not(p and q)\n",
        "e"
      ],
      "metadata": {
        "colab": {
          "base_uri": "https://localhost:8080/"
        },
        "id": "lNSYKPgD7tio",
        "outputId": "ba8e5103-204b-43f1-e9a9-55c0ffb42bbd"
      },
      "execution_count": null,
      "outputs": [
        {
          "output_type": "execute_result",
          "data": {
            "text/plain": [
              "True"
            ]
          },
          "metadata": {},
          "execution_count": 29
        }
      ]
    },
    {
      "cell_type": "code",
      "source": [
        "q, p = True, False\n",
        "xor = (not p and q) or (p and not q)\n",
        "xor"
      ],
      "metadata": {
        "colab": {
          "base_uri": "https://localhost:8080/"
        },
        "id": "GPsqV9kB73Vk",
        "outputId": "dc96942e-34f4-48b6-daeb-3e470185d4cf"
      },
      "execution_count": null,
      "outputs": [
        {
          "output_type": "execute_result",
          "data": {
            "text/plain": [
              "True"
            ]
          },
          "metadata": {},
          "execution_count": 30
        }
      ]
    },
    {
      "cell_type": "markdown",
      "source": [
        "###I/O"
      ],
      "metadata": {
        "id": "uraKRTLk8NEX"
      }
    },
    {
      "cell_type": "code",
      "source": [
        "print(\"Hello pu, sizteret\")"
      ],
      "metadata": {
        "colab": {
          "base_uri": "https://localhost:8080/"
        },
        "id": "ABsh66Du80am",
        "outputId": "67c42eab-6d64-4d6a-ce48-2e636c8a69d0"
      },
      "execution_count": null,
      "outputs": [
        {
          "output_type": "stream",
          "name": "stdout",
          "text": [
            "Hello pu, sizteret\n"
          ]
        }
      ]
    },
    {
      "cell_type": "code",
      "source": [
        "cnt = 1"
      ],
      "metadata": {
        "id": "cRJXg2N787U8"
      },
      "execution_count": null,
      "outputs": []
    },
    {
      "cell_type": "code",
      "source": [
        "string = \"Hello pu, sizteret\"\n",
        "print(string, \", Current run count is:\", cnt)\n",
        "cnt += 2"
      ],
      "metadata": {
        "colab": {
          "base_uri": "https://localhost:8080/"
        },
        "id": "r87RcFxv89dx",
        "outputId": "58e9f0e5-e724-45cd-9170-ad36a7f03887"
      },
      "execution_count": null,
      "outputs": [
        {
          "output_type": "stream",
          "name": "stdout",
          "text": [
            "Hello pu, sizteret , Current run count is: 1\n"
          ]
        }
      ]
    },
    {
      "cell_type": "code",
      "source": [
        "print(f\"{string}, Current count is: {cnt}\")"
      ],
      "metadata": {
        "colab": {
          "base_uri": "https://localhost:8080/"
        },
        "id": "l_tAE_RP9S46",
        "outputId": "1ef0b995-578d-4ec8-c9de-e9e96672ba93"
      },
      "execution_count": null,
      "outputs": [
        {
          "output_type": "stream",
          "name": "stdout",
          "text": [
            "Hello pu, sizteret, Current count is: 3\n"
          ]
        }
      ]
    },
    {
      "cell_type": "code",
      "source": [
        "sem_grade = 82.243564657461234\n",
        "name = \"Leng\"\n",
        "print(\"Hello {}, your semestral grade is : {}\".format(name, sem_grade))"
      ],
      "metadata": {
        "colab": {
          "base_uri": "https://localhost:8080/"
        },
        "id": "2NYWNs06960p",
        "outputId": "ce7aafb7-e04a-4436-b72a-d0216fd6e6ea"
      },
      "execution_count": null,
      "outputs": [
        {
          "output_type": "stream",
          "name": "stdout",
          "text": [
            "Hello Leng, your semestral grade is : 82.24356465746123\n"
          ]
        }
      ]
    },
    {
      "cell_type": "code",
      "source": [
        "w_pg, w_mg, w_fg = 0.3, 0.3, 0.4\n",
        "print(\"The weights of your semestral grades are:\\\n",
        "\\n\\t{:.2%} for Prelims\\\n",
        "\\n\\t{:.2%} for Midterms, and\\\n",
        "\\n\\t{:.2%} for Finals.\".format(w_pg, w_mg, w_fg))"
      ],
      "metadata": {
        "colab": {
          "base_uri": "https://localhost:8080/"
        },
        "id": "oWNqKkFkt6xU",
        "outputId": "0f8d7019-1a86-4b9c-fe00-4d94fa1306b0"
      },
      "execution_count": null,
      "outputs": [
        {
          "output_type": "stream",
          "name": "stdout",
          "text": [
            "The weights of your semestral grades are:\n",
            "\t30.00% for Prelims\n",
            "\t30.00% for Midterms, and\n",
            "\t40.00% for Finals.\n"
          ]
        }
      ]
    },
    {
      "cell_type": "code",
      "source": [
        "x = input(\"enter a number:\")\n",
        "x"
      ],
      "metadata": {
        "colab": {
          "base_uri": "https://localhost:8080/",
          "height": 53
        },
        "id": "HFsbinptu1-h",
        "outputId": "b4342836-37a5-42d4-cd63-9eb5e2cbf93b"
      },
      "execution_count": null,
      "outputs": [
        {
          "name": "stdout",
          "output_type": "stream",
          "text": [
            "enter a number:4\n"
          ]
        },
        {
          "output_type": "execute_result",
          "data": {
            "application/vnd.google.colaboratory.intrinsic+json": {
              "type": "string"
            },
            "text/plain": [
              "'4'"
            ]
          },
          "metadata": {},
          "execution_count": 37
        }
      ]
    },
    {
      "cell_type": "code",
      "source": [
        "name = input(\"Kimi no nawa: \")\n",
        "pg = input(\"Enter prelim grade: \")\n",
        "mg = input(\"Enter midterm grade: \")\n",
        "fg = input(\"Enter prelim grade: \")\n",
        "sem_grade = None\n",
        "print(\"Hello {}, your semestral grade is: {}\".format(name, sem_grade))"
      ],
      "metadata": {
        "colab": {
          "base_uri": "https://localhost:8080/"
        },
        "id": "R8vY7fkbvH-L",
        "outputId": "224a0ef4-8c62-4af9-d709-15ee5ec2849a"
      },
      "execution_count": null,
      "outputs": [
        {
          "output_type": "stream",
          "name": "stdout",
          "text": [
            "Kimi no nawa: Lera\n",
            "Enter prelim grade: 95\n",
            "Enter midterm grade: 93\n",
            "Enter prelim grade: 96\n",
            "Hello Lera, your semestral grade is: None\n"
          ]
        }
      ]
    },
    {
      "cell_type": "markdown",
      "source": [
        "#Looping Statements"
      ],
      "metadata": {
        "id": "3xmC4YsGwZAn"
      }
    },
    {
      "cell_type": "markdown",
      "source": [
        "##While"
      ],
      "metadata": {
        "id": "lY-eWGOFwe0A"
      }
    },
    {
      "cell_type": "code",
      "source": [
        "## while loops\n",
        "i, j = 0, 10\n",
        "while(i<=j):\n",
        "    print(f\"{i}\\t|\\t{j}\")\n",
        "    i+=1"
      ],
      "metadata": {
        "colab": {
          "base_uri": "https://localhost:8080/"
        },
        "id": "zAgnu8BTwg52",
        "outputId": "e0568ce2-1f57-4591-9f93-3f86b1f32e17"
      },
      "execution_count": null,
      "outputs": [
        {
          "output_type": "stream",
          "name": "stdout",
          "text": [
            "0\t|\t10\n",
            "1\t|\t10\n",
            "2\t|\t10\n",
            "3\t|\t10\n",
            "4\t|\t10\n",
            "5\t|\t10\n",
            "6\t|\t10\n",
            "7\t|\t10\n",
            "8\t|\t10\n",
            "9\t|\t10\n",
            "10\t|\t10\n"
          ]
        }
      ]
    },
    {
      "cell_type": "markdown",
      "source": [
        "##For"
      ],
      "metadata": {
        "id": "xufmB61-xx0i"
      }
    },
    {
      "cell_type": "code",
      "source": [
        "# for(int i=0; i<10; i++){\n",
        "# printf(i)\n",
        "# }\n",
        "i=0\n",
        "for i in range(10):\n",
        "    print(i)"
      ],
      "metadata": {
        "colab": {
          "base_uri": "https://localhost:8080/"
        },
        "id": "uuSQuW4cx4Hg",
        "outputId": "5324839f-9f37-456d-dc14-78a00c0e33a6"
      },
      "execution_count": null,
      "outputs": [
        {
          "output_type": "stream",
          "name": "stdout",
          "text": [
            "0\n",
            "1\n",
            "2\n",
            "3\n",
            "4\n",
            "5\n",
            "6\n",
            "7\n",
            "8\n",
            "9\n"
          ]
        }
      ]
    },
    {
      "cell_type": "code",
      "source": [
        "playlist = [\"Andrhea\",\"Demi\",\"Jere\",\"Dani\",\"Lera\"]\n",
        "print('Now Playing:\\n')\n",
        "for song in playlist:\n",
        "    print(song)"
      ],
      "metadata": {
        "colab": {
          "base_uri": "https://localhost:8080/"
        },
        "id": "IVdLuykdykxO",
        "outputId": "fbc2ecfa-6360-4419-9835-c52fbf9d4819"
      },
      "execution_count": null,
      "outputs": [
        {
          "output_type": "stream",
          "name": "stdout",
          "text": [
            "Now Playing:\n",
            "\n",
            "Andrhea\n",
            "Demi\n",
            "Jere\n",
            "Dani\n",
            "Lera\n"
          ]
        }
      ]
    },
    {
      "cell_type": "markdown",
      "source": [
        "#Flow Control"
      ],
      "metadata": {
        "id": "DTv9Xs5fzJU1"
      }
    },
    {
      "cell_type": "markdown",
      "source": [
        "###Conditional Statements"
      ],
      "metadata": {
        "id": "BsflxHElzXX3"
      }
    },
    {
      "cell_type": "code",
      "source": [
        "numeral1, numeral2 = 13, 14\n",
        "if(numeral1 == numeral2):\n",
        "    print(\"Yey\")\n",
        "elif(numeral1>numeral2):\n",
        "    print(\"Hoho\")\n",
        "else:\n",
        "    print(\"Aww\")\n",
        "  "
      ],
      "metadata": {
        "colab": {
          "base_uri": "https://localhost:8080/"
        },
        "id": "UnfK7XDWzbGn",
        "outputId": "33a7823b-2709-4ea3-826a-a9bc5e8cc93f"
      },
      "execution_count": null,
      "outputs": [
        {
          "output_type": "stream",
          "name": "stdout",
          "text": [
            "Aww\n"
          ]
        }
      ]
    },
    {
      "cell_type": "markdown",
      "source": [
        "##Functions"
      ],
      "metadata": {
        "id": "RTBnUuCj14K5"
      }
    },
    {
      "cell_type": "code",
      "source": [
        "# void DeleteUser(int userid){\n",
        "#     delete(userid);\n",
        "# }\n",
        "\n",
        "def delete_user (userid):\n",
        "    print(\"Successfully deleted user: {}\".format(userid))\n",
        "\n",
        "def delete_all_users ():\n",
        "    print(\"All of us are Dead\")"
      ],
      "metadata": {
        "id": "o_rfTREb2m6L"
      },
      "execution_count": null,
      "outputs": []
    },
    {
      "cell_type": "code",
      "source": [
        "userid = \"Lers\"\n",
        "delete_user(\"Lers\")\n",
        "delete_all_users()"
      ],
      "metadata": {
        "colab": {
          "base_uri": "https://localhost:8080/"
        },
        "id": "BoQbCy9e2rzH",
        "outputId": "f9160e86-4894-4944-c2f8-9da456cee0ae"
      },
      "execution_count": null,
      "outputs": [
        {
          "output_type": "stream",
          "name": "stdout",
          "text": [
            "Successfully deleted user: Lers\n",
            "All of us are Dead\n"
          ]
        }
      ]
    },
    {
      "cell_type": "code",
      "source": [
        "def add(addend1, addend2):\n",
        "    return addend1 + addend2\n",
        "\n",
        "def power_of_base2(exponent):\n",
        "    return 2**exponent"
      ],
      "metadata": {
        "id": "m8YPj2wd4D1q"
      },
      "execution_count": null,
      "outputs": []
    },
    {
      "cell_type": "code",
      "source": [
        "#addend1, addend2 = 24, 25\n",
        "#add(adeend1, addend2)\n",
        "\n",
        "exponent = 8\n",
        "power_of_base2(exponent)"
      ],
      "metadata": {
        "colab": {
          "base_uri": "https://localhost:8080/"
        },
        "id": "r8CrIPzD4UzA",
        "outputId": "4ad483e2-0e17-4a38-f25e-42fbe6dd439e"
      },
      "execution_count": null,
      "outputs": [
        {
          "output_type": "execute_result",
          "data": {
            "text/plain": [
              "256"
            ]
          },
          "metadata": {},
          "execution_count": 48
        }
      ]
    },
    {
      "cell_type": "markdown",
      "source": [
        "##Grade Calculator"
      ],
      "metadata": {
        "id": "xZgbHbkTtV8p"
      }
    },
    {
      "cell_type": "code",
      "source": [
        "w_pg, w_mg, w_fg = 0.3, 0.3, 0.4\n",
        "Name = input(\"Enter your name: \")\n",
        "Course = input(\"Enter your course: \")\n",
        "pg = float (input(\"Enter Prelim Grade: \"))\n",
        "mg = float (input(\"Enter Midterm Grade: \"))\n",
        "fg = float (input(\"Enter Final Grade: \"))\n",
        "sem_grade = (pg*w_pg)+(mg*w_mg)+(fg*w_fg)\n",
        "print(\"Hello {}, from {}, your semestral grade for this subject is: {}\".format(Name,Course, round(sem_grade, 2)))\n",
        "if(sem_grade > 70.00):\n",
        "  print(\"\\U0001F600\")\n",
        "elif(sem_grade == 70.00):\n",
        "  print(\"\\U0001F606\")\n",
        "else:\n",
        "  print(\"\\U0001F62D\")"
      ],
      "metadata": {
        "colab": {
          "base_uri": "https://localhost:8080/"
        },
        "id": "Lq3HbcyTtZDv",
        "outputId": "a0797e64-a818-486c-c720-872b8ea18bc9"
      },
      "execution_count": null,
      "outputs": [
        {
          "output_type": "stream",
          "name": "stdout",
          "text": [
            "Enter your name: Stephany Lera E. Abrogena\n",
            "Enter your course: BS Chemical Engineering\n",
            "Enter Prelim Grade: 94\n",
            "Enter Midterm Grade: 93\n",
            "Enter Final Grade: 96\n",
            "Hello Stephany Lera E. Abrogena, from BS Chemical Engineering, your semestral grade for this subject is: 94.5\n",
            "😀\n"
          ]
        }
      ]
    }
  ]
}