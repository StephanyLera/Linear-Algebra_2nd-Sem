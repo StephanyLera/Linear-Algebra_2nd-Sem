{
  "nbformat": 4,
  "nbformat_minor": 0,
  "metadata": {
    "colab": {
      "name": "Untitled2.ipynb",
      "provenance": [],
      "include_colab_link": true
    },
    "kernelspec": {
      "name": "python3",
      "display_name": "Python 3"
    },
    "language_info": {
      "name": "python"
    }
  },
  "cells": [
    {
      "cell_type": "markdown",
      "metadata": {
        "id": "view-in-github",
        "colab_type": "text"
      },
      "source": [
        "<a href=\"https://colab.research.google.com/github/StephanyLera/Linear-Algebra_2nd-Sem/blob/main/LabRep2.ipynb\" target=\"_parent\"><img src=\"https://colab.research.google.com/assets/colab-badge.svg\" alt=\"Open In Colab\"/></a>"
      ]
    },
    {
      "cell_type": "markdown",
      "source": [
        "# Practice Answers"
      ],
      "metadata": {
        "id": "LX4jIMWoPpqq"
      }
    },
    {
      "cell_type": "markdown",
      "source": [
        "## Practice Number 1"
      ],
      "metadata": {
        "id": "XoCBdyVRQdcv"
      }
    },
    {
      "cell_type": "markdown",
      "source": [
        "1. Given the linear combination below, try to create a corresponding matrix representing it."
      ],
      "metadata": {
        "id": "n7XrX5MgLKOh"
      }
    },
    {
      "cell_type": "markdown",
      "source": [
        "$$\\theta = 5x + 3y - z$$"
      ],
      "metadata": {
        "id": "23HatMeoLPse"
      }
    },
    {
      "cell_type": "code",
      "source": [
        "import numpy as np\n",
        "import matplotlib.pyplot as plt\n",
        "import scipy.linalg as la\n",
        "%matplotlib inline\n"
      ],
      "metadata": {
        "id": "_aVjWxL9PuXX"
      },
      "execution_count": null,
      "outputs": []
    },
    {
      "cell_type": "code",
      "source": [
        "def describe_mat (matrix):\n",
        "    is_square = True if matrix.shape[0] == matrix.shape[1] else False\n",
        "    print(f'Matrix:\\n{matrix}\\n\\nShape:\\t{matrix.shape}\\nRank:\\t{matrix.ndim}\\n')\n",
        "theta = np.array ([\n",
        "  [5,3,-1]\n",
        "])\n",
        "describe_mat(theta)"
      ],
      "metadata": {
        "colab": {
          "base_uri": "https://localhost:8080/"
        },
        "id": "L7hxvQJmKV_A",
        "outputId": "6166a7aa-446d-497e-b587-1376a5244546"
      },
      "execution_count": null,
      "outputs": [
        {
          "output_type": "stream",
          "name": "stdout",
          "text": [
            "Matrix:\n",
            "[[ 5  3 -1]]\n",
            "\n",
            "Shape:\t(1, 3)\n",
            "Rank:\t2\n",
            "\n"
          ]
        }
      ]
    },
    {
      "cell_type": "markdown",
      "source": [
        "## Practice Number 2"
      ],
      "metadata": {
        "id": "e5S37s2YPwdD"
      }
    },
    {
      "cell_type": "markdown",
      "source": [
        "2. Given the system of linear combinations below, try to encode it as a matrix. Also describe the matrix."
      ],
      "metadata": {
        "id": "7nF-LyHtLeQY"
      }
    },
    {
      "cell_type": "markdown",
      "source": [
        "$$\n",
        "A = \\left\\{\\begin{array}\n",
        "5x_1 + 2x_2 +x_3\\\\\n",
        "4x_2 - x_3\\\\\n",
        "10x_3\n",
        "\\end{array}\\right.\n",
        "$$"
      ],
      "metadata": {
        "id": "c7Nb7ECSLnFU"
      }
    },
    {
      "cell_type": "code",
      "source": [
        "import numpy as np\n",
        "import matplotlib.pyplot as plt\n",
        "import scipy.linalg as la\n",
        "%matplotlib inline"
      ],
      "metadata": {
        "id": "CpkaLgkgPz9Y"
      },
      "execution_count": null,
      "outputs": []
    },
    {
      "cell_type": "code",
      "source": [
        "def describe_mat(matrix):\n",
        "    is_square = True if matrix.shape[0] == matrix.shape[1] else False\n",
        "    print(f'Matrix:\\n{matrix}\\n\\nShape:\\t{matrix.shape}\\nRank:\\t{matrix.ndim}\\nIs square: {is_square}\\n')\n",
        "D = np.array ([\n",
        "   [1,2,1],\n",
        "   [0,4,-1],\n",
        "   [0,0,10]                     \n",
        "])\n",
        "describe_mat(D)"
      ],
      "metadata": {
        "colab": {
          "base_uri": "https://localhost:8080/"
        },
        "id": "_Ep_pHqRP6wN",
        "outputId": "710341f7-bbe2-4dbd-b767-21c9fecab7a2"
      },
      "execution_count": null,
      "outputs": [
        {
          "output_type": "stream",
          "name": "stdout",
          "text": [
            "Matrix:\n",
            "[[ 1  2  1]\n",
            " [ 0  4 -1]\n",
            " [ 0  0 10]]\n",
            "\n",
            "Shape:\t(3, 3)\n",
            "Rank:\t2\n",
            "Is square: True\n",
            "\n"
          ]
        }
      ]
    },
    {
      "cell_type": "markdown",
      "source": [
        "## Practice Number 3"
      ],
      "metadata": {
        "id": "Ilsf7oPFP_PM"
      }
    },
    {
      "cell_type": "markdown",
      "source": [
        "3. Given the matrix below, express it as a linear combination in a markdown."
      ],
      "metadata": {
        "id": "NkEn_tX8L57K"
      }
    },
    {
      "cell_type": "code",
      "source": [
        "import numpy as np\n",
        "import matplotlib.pyplot as plt\n",
        "import scipy.linalg as la\n",
        "%matplotlib inline"
      ],
      "metadata": {
        "id": "jlN6gxCNOu3V"
      },
      "execution_count": null,
      "outputs": []
    },
    {
      "cell_type": "code",
      "source": [
        "G = np.array([\n",
        "    [1,7,8],\n",
        "    [2,2,2],\n",
        "    [4,6,7]\n",
        "])\n"
      ],
      "metadata": {
        "id": "lHuDyvRqO16U"
      },
      "execution_count": null,
      "outputs": []
    },
    {
      "cell_type": "markdown",
      "source": [
        "$$\n",
        "G = \\left\\{\n",
        "    \\begin{array}\\\n",
        "        x + 7y + 8z \\\\\n",
        "        2x + 2y + 2z \\\\\n",
        "        4x + 6y + 7z \\\\\n",
        "    \\end{array}\n",
        "\\right. \\\\\n",
        " $$\n"
      ],
      "metadata": {
        "id": "SAdJWjpkQHCW"
      }
    },
    {
      "cell_type": "markdown",
      "source": [
        "## Practice Number 4"
      ],
      "metadata": {
        "id": "plwU7xo1QIbb"
      }
    },
    {
      "cell_type": "markdown",
      "source": [
        "4. Given the matrix below, display the output as a LaTeX makdown also express it as a system of linear combinations."
      ],
      "metadata": {
        "id": "zFj6VfSKMCbc"
      }
    },
    {
      "cell_type": "code",
      "source": [
        "import numpy as np\n",
        "import matplotlib.pyplot as plt\n",
        "import scipy.linalg as la\n",
        "%matplotlib inline"
      ],
      "metadata": {
        "id": "u7BLNVYIPBHK"
      },
      "execution_count": null,
      "outputs": []
    },
    {
      "cell_type": "code",
      "source": [
        "H = np.tril(G)\n",
        "H"
      ],
      "metadata": {
        "id": "azuV153NPDyq",
        "outputId": "bad98fc7-7507-4bbd-d636-14c4639514a6",
        "colab": {
          "base_uri": "https://localhost:8080/"
        }
      },
      "execution_count": null,
      "outputs": [
        {
          "output_type": "execute_result",
          "data": {
            "text/plain": [
              "array([[1, 0, 0],\n",
              "       [2, 2, 0],\n",
              "       [4, 6, 7]])"
            ]
          },
          "metadata": {},
          "execution_count": 4
        }
      ]
    },
    {
      "cell_type": "markdown",
      "source": [
        "$$\n",
        "G = \\left\\{\n",
        "    \\begin{array}\\\n",
        "        x  \\\\\n",
        "        2x + 2y \\\\\n",
        "        4x + 6y +7z \\\\\n",
        "    \\end{array}\n",
        "\\right. \\\\\n",
        " $$\n"
      ],
      "metadata": {
        "id": "sXz4oUkxPGu3"
      }
    },
    {
      "cell_type": "markdown",
      "source": [
        "$$ G=\\begin{bmatrix} 1 & 0 & 0 \\\\ 2 & 2 & 0 \\\\ 4 & 6 & 7\\end{bmatrix}\n",
        "$$"
      ],
      "metadata": {
        "id": "5LgsaWvlPJzR"
      }
    },
    {
      "cell_type": "markdown",
      "source": [
        "# Tasks"
      ],
      "metadata": {
        "id": "SW2kplYHQOwP"
      }
    },
    {
      "cell_type": "markdown",
      "source": [
        "##**Task 1**"
      ],
      "metadata": {
        "id": "DVXFVtIpQQfq"
      }
    },
    {
      "cell_type": "markdown",
      "source": [
        "Create a function named mat_desc() that thouroughly describes a matrix , it should:\n",
        "\n",
        "  1. Displays the shape, size and rank of the matrix.\n",
        "  2. Displays whether the matrix is a square or non-square.\n",
        "  3. Displays whether the matrix is an empty matrix.\n",
        "  4. Displays if the matrix is an identity, ones or zeros matrix.\n",
        "\n",
        "Use samples 3 matrices in which their shapes are not lower than **(3,3)**. In your methodology, create a flowchart discuss the functions and methods you have done. Present your results in the results section showing the description of each matrix you have declared."
      ],
      "metadata": {
        "id": "E4QRm9XNNSc_"
      }
    },
    {
      "cell_type": "code",
      "source": [
        "def describe_mat (matrix):\n",
        "      print(f'Matrix:\\n{matrix}\\n\\nShape:\\t{matrix.shape}\\nRank\"\\t{matrix.ndim}\\n')\n",
        "      "
      ],
      "metadata": {
        "id": "WcDUaBzDPmV-"
      },
      "execution_count": null,
      "outputs": []
    },
    {
      "cell_type": "markdown",
      "source": [
        "###**Shape, Size and Rank**"
      ],
      "metadata": {
        "id": "4I4a5SiRQXfw"
      }
    },
    {
      "cell_type": "code",
      "source": [
        "Z = np.array([\n",
        "    [8, 6, 2, 4],\n",
        "    [4, 7, 9, 1],\n",
        "    [10, 9, 8, 7],\n",
        "    [23, 6, 11, 5]\n",
        "])\n",
        "describe_mat(Z)"
      ],
      "metadata": {
        "colab": {
          "base_uri": "https://localhost:8080/"
        },
        "id": "AjhLla1rQrcg",
        "outputId": "8b4f8347-8ceb-4bf5-d8df-023e6b3d7cc8"
      },
      "execution_count": null,
      "outputs": [
        {
          "output_type": "stream",
          "name": "stdout",
          "text": [
            "Matrix:\n",
            "[[ 8  6  2  4]\n",
            " [ 4  7  9  1]\n",
            " [10  9  8  7]\n",
            " [23  6 11  5]]\n",
            "\n",
            "Shape:\t(4, 4)\n",
            "Rank\"\t2\n",
            "\n"
          ]
        }
      ]
    },
    {
      "cell_type": "code",
      "source": [
        "Y = np.array([\n",
        "    [2, 4, 6, 8, 10],\n",
        "    [3, 6, 9, 12, 15],\n",
        "    [4, 8, 12, 16, 20],\n",
        "    [5, 10, 15, 20, 25]\n",
        "])\n",
        "describe_mat(Y)"
      ],
      "metadata": {
        "colab": {
          "base_uri": "https://localhost:8080/"
        },
        "id": "UFhn4M_KRMLj",
        "outputId": "3ec13676-2199-422c-a750-28583db0b8ac"
      },
      "execution_count": null,
      "outputs": [
        {
          "output_type": "stream",
          "name": "stdout",
          "text": [
            "Matrix:\n",
            "[[ 2  4  6  8 10]\n",
            " [ 3  6  9 12 15]\n",
            " [ 4  8 12 16 20]\n",
            " [ 5 10 15 20 25]]\n",
            "\n",
            "Shape:\t(4, 5)\n",
            "Rank\"\t2\n",
            "\n"
          ]
        }
      ]
    },
    {
      "cell_type": "code",
      "source": [
        "X = np.array([\n",
        "    [1, 2, 3, 4,],\n",
        "    [10, 9, 8, 7],\n",
        "    [4, 6, 8, 10],\n",
        "    [14, 7, 9, 1],\n",
        "    [4, 8, 5, 67]\n",
        "])\n",
        "describe_mat(X)"
      ],
      "metadata": {
        "colab": {
          "base_uri": "https://localhost:8080/"
        },
        "id": "Ob8JQQVvRn71",
        "outputId": "e0de160a-b980-4095-e57d-447e5d7ffdaa"
      },
      "execution_count": null,
      "outputs": [
        {
          "output_type": "stream",
          "name": "stdout",
          "text": [
            "Matrix:\n",
            "[[ 1  2  3  4]\n",
            " [10  9  8  7]\n",
            " [ 4  6  8 10]\n",
            " [14  7  9  1]\n",
            " [ 4  8  5 67]]\n",
            "\n",
            "Shape:\t(5, 4)\n",
            "Rank\"\t2\n",
            "\n"
          ]
        }
      ]
    },
    {
      "cell_type": "markdown",
      "source": [
        "###**Square and Non-Square Matrices**"
      ],
      "metadata": {
        "id": "yffd8Q-8UDbl"
      }
    },
    {
      "cell_type": "code",
      "source": [
        "def mat_desc(matrix):\n",
        "  is_square = True if matrix.shape[0] == matrix.shape[1] else False\n",
        "  print(f'Matrix:\\n{matrix}\\n\\nShape:\\t{matrix.shape}\\nRank:\\t{matrix.ndim}\\n')"
      ],
      "metadata": {
        "id": "0NmOZqm0UXSB"
      },
      "execution_count": null,
      "outputs": []
    },
    {
      "cell_type": "code",
      "source": [
        "square_mat = np.array([\n",
        "    [3, 8, 7, 9],\n",
        "    [9, 8, 3, 5],\n",
        "    [6, 2, 7, 5],\n",
        "    [1, 6, 0, 4]\n",
        "])\n",
        "\n",
        "non_square_mat = np.array([\n",
        "    [5, 7, 3, 6, 0],\n",
        "    [3, 78, 14, 17, 5],\n",
        "    [56, 1, 3, 90, 4],\n",
        "    [5, 24, 10, 11, 9]\n",
        "])\n",
        "\n",
        "mat_desc(square_mat)\n",
        "mat_desc(non_square_mat)"
      ],
      "metadata": {
        "colab": {
          "base_uri": "https://localhost:8080/"
        },
        "id": "3FVrA9STU0Kj",
        "outputId": "5649fd67-a965-410a-cb3d-3e460dd1545d"
      },
      "execution_count": null,
      "outputs": [
        {
          "output_type": "stream",
          "name": "stdout",
          "text": [
            "Matrix:\n",
            "[[3 8 7 9]\n",
            " [9 8 3 5]\n",
            " [6 2 7 5]\n",
            " [1 6 0 4]]\n",
            "\n",
            "Shape:\t(4, 4)\n",
            "Rank:\t2\n",
            "\n",
            "Matrix:\n",
            "[[ 5  7  3  6  0]\n",
            " [ 3 78 14 17  5]\n",
            " [56  1  3 90  4]\n",
            " [ 5 24 10 11  9]]\n",
            "\n",
            "Shape:\t(4, 5)\n",
            "Rank:\t2\n",
            "\n"
          ]
        }
      ]
    },
    {
      "cell_type": "code",
      "source": [
        "square_mat = np.array([\n",
        "    [4, 8, 12, 91],\n",
        "    [23, 16, 7, 10],\n",
        "    [56, 12, 45, 1],\n",
        "    [9, 41, 34, 7]\n",
        "])\n",
        "\n",
        "non_square_mat = np.array([\n",
        "    [23, 78, 14, 56, 89],\n",
        "    [67, 10 , 11, 56, 34],\n",
        "    [43, 92, 12, 0, 4],\n",
        "    [78, 101, 79, 34, 2]\n",
        "])\n",
        "\n",
        "mat_desc(square_mat)\n",
        "mat_desc(non_square_mat)"
      ],
      "metadata": {
        "colab": {
          "base_uri": "https://localhost:8080/"
        },
        "id": "rYw1_xwBZORo",
        "outputId": "680a3706-78b2-4dfa-f214-5ac5f1e6dfda"
      },
      "execution_count": null,
      "outputs": [
        {
          "output_type": "stream",
          "name": "stdout",
          "text": [
            "Matrix:\n",
            "[[ 4  8 12 91]\n",
            " [23 16  7 10]\n",
            " [56 12 45  1]\n",
            " [ 9 41 34  7]]\n",
            "\n",
            "Shape:\t(4, 4)\n",
            "Rank:\t2\n",
            "\n",
            "Matrix:\n",
            "[[ 23  78  14  56  89]\n",
            " [ 67  10  11  56  34]\n",
            " [ 43  92  12   0   4]\n",
            " [ 78 101  79  34   2]]\n",
            "\n",
            "Shape:\t(4, 5)\n",
            "Rank:\t2\n",
            "\n"
          ]
        }
      ]
    },
    {
      "cell_type": "code",
      "source": [
        "square_mat = np.array([\n",
        "    [3, 4, 5, 6],\n",
        "    [1, 2, 3, 4],\n",
        "    [9, 8, 7, 6],\n",
        "    [4, 6, 2, 6]\n",
        "])\n",
        "\n",
        "non_square_mat = np.array([\n",
        "    [4, 7, 2, 8, 9],\n",
        "    [12, 87, 46, 23, 1],\n",
        "    [23, 67, 12, 40, 1],\n",
        "    [56, 17, 19, 23, 65]\n",
        "])\n",
        "\n",
        "mat_desc(square_mat)\n",
        "mat_desc(non_square_mat)"
      ],
      "metadata": {
        "colab": {
          "base_uri": "https://localhost:8080/"
        },
        "id": "_w5HTMdJc5Sz",
        "outputId": "54cc943e-88d7-49cb-d4e9-54381f62e9cd"
      },
      "execution_count": null,
      "outputs": [
        {
          "output_type": "stream",
          "name": "stdout",
          "text": [
            "Matrix:\n",
            "[[3 4 5 6]\n",
            " [1 2 3 4]\n",
            " [9 8 7 6]\n",
            " [4 6 2 6]]\n",
            "\n",
            "Shape:\t(4, 4)\n",
            "Rank:\t2\n",
            "\n",
            "Matrix:\n",
            "[[ 4  7  2  8  9]\n",
            " [12 87 46 23  1]\n",
            " [23 67 12 40  1]\n",
            " [56 17 19 23 65]]\n",
            "\n",
            "Shape:\t(4, 5)\n",
            "Rank:\t2\n",
            "\n"
          ]
        }
      ]
    },
    {
      "cell_type": "markdown",
      "source": [
        "###**Empty Matrix**"
      ],
      "metadata": {
        "id": "ludKWRL-eENM"
      }
    },
    {
      "cell_type": "code",
      "source": [
        "def mat_desc(matrix):\n",
        "  if matrix.size > 0:\n",
        "    is_square = True if matrix.shape[0] == matrix.shape[1] else False\n",
        "    print(f'Matrix:\\n{matrix}\\n\\nShape:\\t{matrix.shape}\\nRank:\\t{matrix.ndim}\\n')\n",
        "  else:\n",
        "    print('Matrix is Null')"
      ],
      "metadata": {
        "id": "_6nTQ7jVeOE9"
      },
      "execution_count": null,
      "outputs": []
    },
    {
      "cell_type": "code",
      "source": [
        "null_mat = np.array([])\n",
        "mat_desc(null_mat)"
      ],
      "metadata": {
        "colab": {
          "base_uri": "https://localhost:8080/"
        },
        "id": "csYvHlRFfKzq",
        "outputId": "eac5808d-bf24-4457-83f5-6d1fd2b702b5"
      },
      "execution_count": null,
      "outputs": [
        {
          "output_type": "stream",
          "name": "stdout",
          "text": [
            "Matrix is Null\n"
          ]
        }
      ]
    },
    {
      "cell_type": "markdown",
      "source": [
        "###**Identity**"
      ],
      "metadata": {
        "id": "aVApWp-Vf7LX"
      }
    },
    {
      "cell_type": "code",
      "source": [
        "np. eye (5)"
      ],
      "metadata": {
        "colab": {
          "base_uri": "https://localhost:8080/"
        },
        "id": "ybwRX-umgChY",
        "outputId": "2bb126ee-6e66-4a20-fc9b-9da91004a3af"
      },
      "execution_count": null,
      "outputs": [
        {
          "output_type": "execute_result",
          "data": {
            "text/plain": [
              "array([[1., 0., 0., 0., 0.],\n",
              "       [0., 1., 0., 0., 0.],\n",
              "       [0., 0., 1., 0., 0.],\n",
              "       [0., 0., 0., 1., 0.],\n",
              "       [0., 0., 0., 0., 1.]])"
            ]
          },
          "metadata": {},
          "execution_count": 19
        }
      ]
    },
    {
      "cell_type": "code",
      "source": [
        "np.identity (10)"
      ],
      "metadata": {
        "colab": {
          "base_uri": "https://localhost:8080/"
        },
        "id": "AG7iHzBMgGxg",
        "outputId": "05dbfca8-cf18-495e-c0d0-ada24ff01be7"
      },
      "execution_count": null,
      "outputs": [
        {
          "output_type": "execute_result",
          "data": {
            "text/plain": [
              "array([[1., 0., 0., 0., 0., 0., 0., 0., 0., 0.],\n",
              "       [0., 1., 0., 0., 0., 0., 0., 0., 0., 0.],\n",
              "       [0., 0., 1., 0., 0., 0., 0., 0., 0., 0.],\n",
              "       [0., 0., 0., 1., 0., 0., 0., 0., 0., 0.],\n",
              "       [0., 0., 0., 0., 1., 0., 0., 0., 0., 0.],\n",
              "       [0., 0., 0., 0., 0., 1., 0., 0., 0., 0.],\n",
              "       [0., 0., 0., 0., 0., 0., 1., 0., 0., 0.],\n",
              "       [0., 0., 0., 0., 0., 0., 0., 1., 0., 0.],\n",
              "       [0., 0., 0., 0., 0., 0., 0., 0., 1., 0.],\n",
              "       [0., 0., 0., 0., 0., 0., 0., 0., 0., 1.]])"
            ]
          },
          "metadata": {},
          "execution_count": 20
        }
      ]
    },
    {
      "cell_type": "code",
      "source": [
        "np.eye (16)"
      ],
      "metadata": {
        "colab": {
          "base_uri": "https://localhost:8080/"
        },
        "id": "dgK-owHVgcSn",
        "outputId": "8f716ce5-cc5b-422a-fadc-2e5bfa984e8d"
      },
      "execution_count": null,
      "outputs": [
        {
          "output_type": "execute_result",
          "data": {
            "text/plain": [
              "array([[1., 0., 0., 0., 0., 0., 0., 0., 0., 0., 0., 0., 0., 0., 0., 0.],\n",
              "       [0., 1., 0., 0., 0., 0., 0., 0., 0., 0., 0., 0., 0., 0., 0., 0.],\n",
              "       [0., 0., 1., 0., 0., 0., 0., 0., 0., 0., 0., 0., 0., 0., 0., 0.],\n",
              "       [0., 0., 0., 1., 0., 0., 0., 0., 0., 0., 0., 0., 0., 0., 0., 0.],\n",
              "       [0., 0., 0., 0., 1., 0., 0., 0., 0., 0., 0., 0., 0., 0., 0., 0.],\n",
              "       [0., 0., 0., 0., 0., 1., 0., 0., 0., 0., 0., 0., 0., 0., 0., 0.],\n",
              "       [0., 0., 0., 0., 0., 0., 1., 0., 0., 0., 0., 0., 0., 0., 0., 0.],\n",
              "       [0., 0., 0., 0., 0., 0., 0., 1., 0., 0., 0., 0., 0., 0., 0., 0.],\n",
              "       [0., 0., 0., 0., 0., 0., 0., 0., 1., 0., 0., 0., 0., 0., 0., 0.],\n",
              "       [0., 0., 0., 0., 0., 0., 0., 0., 0., 1., 0., 0., 0., 0., 0., 0.],\n",
              "       [0., 0., 0., 0., 0., 0., 0., 0., 0., 0., 1., 0., 0., 0., 0., 0.],\n",
              "       [0., 0., 0., 0., 0., 0., 0., 0., 0., 0., 0., 1., 0., 0., 0., 0.],\n",
              "       [0., 0., 0., 0., 0., 0., 0., 0., 0., 0., 0., 0., 1., 0., 0., 0.],\n",
              "       [0., 0., 0., 0., 0., 0., 0., 0., 0., 0., 0., 0., 0., 1., 0., 0.],\n",
              "       [0., 0., 0., 0., 0., 0., 0., 0., 0., 0., 0., 0., 0., 0., 1., 0.],\n",
              "       [0., 0., 0., 0., 0., 0., 0., 0., 0., 0., 0., 0., 0., 0., 0., 1.]])"
            ]
          },
          "metadata": {},
          "execution_count": 21
        }
      ]
    },
    {
      "cell_type": "markdown",
      "source": [
        "###**Ones**"
      ],
      "metadata": {
        "id": "PFNdui6Phdm2"
      }
    },
    {
      "cell_type": "code",
      "source": [
        "ones_mat_row = np.ones((9,5))\n",
        "ones_mat_sqr = np.ones((6,5))\n",
        "ones_mat_rct = np.ones((7,4))\n",
        "\n",
        "print(f'ones Row Matrix: \\n{ones_mat_row}')\n",
        "print(f'ones Square Matrix: \\n{ones_mat_sqr}')\n",
        "print(f'ones Rectangular Matrix: \\n{ones_mat_rct}')"
      ],
      "metadata": {
        "colab": {
          "base_uri": "https://localhost:8080/"
        },
        "id": "pzVLfkqJhhau",
        "outputId": "233b99ac-243c-49b5-8263-27438b9bdd8c"
      },
      "execution_count": null,
      "outputs": [
        {
          "output_type": "stream",
          "name": "stdout",
          "text": [
            "ones Row Matrix: \n",
            "[[1. 1. 1. 1. 1.]\n",
            " [1. 1. 1. 1. 1.]\n",
            " [1. 1. 1. 1. 1.]\n",
            " [1. 1. 1. 1. 1.]\n",
            " [1. 1. 1. 1. 1.]\n",
            " [1. 1. 1. 1. 1.]\n",
            " [1. 1. 1. 1. 1.]\n",
            " [1. 1. 1. 1. 1.]\n",
            " [1. 1. 1. 1. 1.]]\n",
            "ones Square Matrix: \n",
            "[[1. 1. 1. 1. 1.]\n",
            " [1. 1. 1. 1. 1.]\n",
            " [1. 1. 1. 1. 1.]\n",
            " [1. 1. 1. 1. 1.]\n",
            " [1. 1. 1. 1. 1.]\n",
            " [1. 1. 1. 1. 1.]]\n",
            "ones Rectangular Matrix: \n",
            "[[1. 1. 1. 1.]\n",
            " [1. 1. 1. 1.]\n",
            " [1. 1. 1. 1.]\n",
            " [1. 1. 1. 1.]\n",
            " [1. 1. 1. 1.]\n",
            " [1. 1. 1. 1.]\n",
            " [1. 1. 1. 1.]]\n"
          ]
        }
      ]
    },
    {
      "cell_type": "markdown",
      "source": [
        "###**Zeros**"
      ],
      "metadata": {
        "id": "pPADSZbVk98l"
      }
    },
    {
      "cell_type": "code",
      "source": [
        "zero_mat_row = np.zeros((8,3))\n",
        "zero_mat_sqr = np.zeros((4,4))\n",
        "zero_mat_rct = np.zeros((7,5))\n",
        "\n",
        "print(f'Zero Row Matrix: \\n{zero_mat_row}')\n",
        "print(f'Zero Square Matrix: \\n{zero_mat_sqr}')\n",
        "print(f'Zero Rectangular Matrix: \\n{zero_mat_rct}')"
      ],
      "metadata": {
        "colab": {
          "base_uri": "https://localhost:8080/"
        },
        "id": "2gaeai7jlCcW",
        "outputId": "cc879a20-6d1d-4c8f-8e40-2c399071892a"
      },
      "execution_count": null,
      "outputs": [
        {
          "output_type": "stream",
          "name": "stdout",
          "text": [
            "Zero Row Matrix: \n",
            "[[0. 0. 0.]\n",
            " [0. 0. 0.]\n",
            " [0. 0. 0.]\n",
            " [0. 0. 0.]\n",
            " [0. 0. 0.]\n",
            " [0. 0. 0.]\n",
            " [0. 0. 0.]\n",
            " [0. 0. 0.]]\n",
            "Zero Square Matrix: \n",
            "[[0. 0. 0. 0.]\n",
            " [0. 0. 0. 0.]\n",
            " [0. 0. 0. 0.]\n",
            " [0. 0. 0. 0.]]\n",
            "Zero Rectangular Matrix: \n",
            "[[0. 0. 0. 0. 0.]\n",
            " [0. 0. 0. 0. 0.]\n",
            " [0. 0. 0. 0. 0.]\n",
            " [0. 0. 0. 0. 0.]\n",
            " [0. 0. 0. 0. 0.]\n",
            " [0. 0. 0. 0. 0.]\n",
            " [0. 0. 0. 0. 0.]]\n"
          ]
        }
      ]
    },
    {
      "cell_type": "markdown",
      "source": [
        "##**Task 2**"
      ],
      "metadata": {
        "id": "G3C29YdaaR8d"
      }
    },
    {
      "cell_type": "code",
      "source": [
        "import numpy as np\n",
        "import matplotlib.pyplot as plt\n",
        "import scipy.linalg as la\n",
        "%matplotlib inline"
      ],
      "metadata": {
        "id": "oahri1H7MpD3"
      },
      "execution_count": null,
      "outputs": []
    },
    {
      "cell_type": "code",
      "source": [
        "def mat_operations(mat1, mat2):\n",
        "    mat1 = np.array(mat1)\n",
        "    mat2 = np.array(mat2)\n",
        "    print('Matrix 1:', mat1)\n",
        "    print('Matrix 2:', mat2)\n",
        "    if(mat1.shape != mat2.shape):\n",
        "        print('The shape of both matrices are not same. Could not perform operations.')\n",
        "        return\n",
        "    print('Sum of the given matrices:')\n",
        "    msum = mat1 + mat2\n",
        "    print(msum)\n",
        "    print('Difference of the given matrices:')\n",
        "    mdiff = mat1 - mat2\n",
        "    print(mdiff)\n",
        "    print('Element-wise multiplication of the given matrices:')\n",
        "    mmul = np.multiply(mat1, mat2)\n",
        "    print(mmul)\n",
        "    print('Element-wise division of the given matrices:')\n",
        "    mmul = np.divide(mat1, mat2)\n",
        "    print(mmul)\n",
        "mat_operations([\n",
        "    [5,2,7,4,4,3], \n",
        "    [8,9,9,5,8,6],\n",
        "    [1,2,3,4,5,6],\n",
        "    [2,4,6,8,10,0]],\n",
        "\n",
        "    [[9,8,7,6,5,4], \n",
        "    [4,2,1,1,0,3],\n",
        "    [7,2,5,8,3,6],\n",
        "    [4,1,0,2,5,8]])\n"
      ],
      "metadata": {
        "colab": {
          "base_uri": "https://localhost:8080/"
        },
        "id": "_u6L6aqMJgh6",
        "outputId": "a8c1272a-9ef4-436d-c12a-51385ad8bf13"
      },
      "execution_count": null,
      "outputs": [
        {
          "output_type": "stream",
          "name": "stdout",
          "text": [
            "Matrix 1: [[ 5  2  7  4  4  3]\n",
            " [ 8  9  9  5  8  6]\n",
            " [ 1  2  3  4  5  6]\n",
            " [ 2  4  6  8 10  0]]\n",
            "Matrix 2: [[9 8 7 6 5 4]\n",
            " [4 2 1 1 0 3]\n",
            " [7 2 5 8 3 6]\n",
            " [4 1 0 2 5 8]]\n",
            "Sum of the given matrices:\n",
            "[[14 10 14 10  9  7]\n",
            " [12 11 10  6  8  9]\n",
            " [ 8  4  8 12  8 12]\n",
            " [ 6  5  6 10 15  8]]\n",
            "Difference of the given matrices:\n",
            "[[-4 -6  0 -2 -1 -1]\n",
            " [ 4  7  8  4  8  3]\n",
            " [-6  0 -2 -4  2  0]\n",
            " [-2  3  6  6  5 -8]]\n",
            "Element-wise multiplication of the given matrices:\n",
            "[[45 16 49 24 20 12]\n",
            " [32 18  9  5  0 18]\n",
            " [ 7  4 15 32 15 36]\n",
            " [ 8  4  0 16 50  0]]\n",
            "Element-wise division of the given matrices:\n",
            "[[0.55555556 0.25       1.         0.66666667 0.8        0.75      ]\n",
            " [2.         4.5        9.         5.                inf 2.        ]\n",
            " [0.14285714 1.         0.6        0.5        1.66666667 1.        ]\n",
            " [0.5        4.                inf 4.         2.         0.        ]]\n"
          ]
        },
        {
          "output_type": "stream",
          "name": "stderr",
          "text": [
            "/usr/local/lib/python3.7/dist-packages/ipykernel_launcher.py:19: RuntimeWarning: divide by zero encountered in true_divide\n"
          ]
        }
      ]
    },
    {
      "cell_type": "code",
      "source": [
        "def mat_operations(mat1, mat2):\n",
        "    mat1 = np.array(mat1)\n",
        "    mat2 = np.array(mat2)\n",
        "    print('Matrix 1:', mat1)\n",
        "    print('Matrix 2:', mat2)\n",
        "    if(mat1.shape != mat2.shape):\n",
        "        print('The shape of both matrices are not same. Could not perform operations.')\n",
        "        return\n",
        "    print('Sum of the given matrices:')\n",
        "    msum = mat1 + mat2\n",
        "    print(msum)\n",
        "    print('Difference of the given matrices:')\n",
        "    mdiff = mat1 - mat2\n",
        "    print(mdiff)\n",
        "    print('Element-wise multiplication of the given matrices:')\n",
        "    mmul = np.multiply(mat1, mat2)\n",
        "    print(mmul)\n",
        "    print('Element-wise division of the given matrices:')\n",
        "    mmul = np.divide(mat1, mat2)\n",
        "    print(mmul)\n",
        "mat_operations([\n",
        "    [3,1,2,3,4,5], \n",
        "    [6,5,7,7,6,9],\n",
        "    [2,4,9,3,5,4],\n",
        "    [3,4,6,4,8,9]],\n",
        "\n",
        "    [[1,4,3,3,9,3], \n",
        "    [1,6,2,5,1,4],\n",
        "    [2,9,1,8,1,5],\n",
        "    [3,6,8,6,8,6]])"
      ],
      "metadata": {
        "id": "X1IYYH82Qo7q",
        "outputId": "75f99289-f31a-4e38-a96b-8fe2070400fa",
        "colab": {
          "base_uri": "https://localhost:8080/"
        }
      },
      "execution_count": null,
      "outputs": [
        {
          "output_type": "stream",
          "name": "stdout",
          "text": [
            "Matrix 1: [[3 1 2 3 4 5]\n",
            " [6 5 7 7 6 9]\n",
            " [2 4 9 3 5 4]\n",
            " [3 4 6 4 8 9]]\n",
            "Matrix 2: [[1 4 3 3 9 3]\n",
            " [1 6 2 5 1 4]\n",
            " [2 9 1 8 1 5]\n",
            " [3 6 8 6 8 6]]\n",
            "Sum of the given matrices:\n",
            "[[ 4  5  5  6 13  8]\n",
            " [ 7 11  9 12  7 13]\n",
            " [ 4 13 10 11  6  9]\n",
            " [ 6 10 14 10 16 15]]\n",
            "Difference of the given matrices:\n",
            "[[ 2 -3 -1  0 -5  2]\n",
            " [ 5 -1  5  2  5  5]\n",
            " [ 0 -5  8 -5  4 -1]\n",
            " [ 0 -2 -2 -2  0  3]]\n",
            "Element-wise multiplication of the given matrices:\n",
            "[[ 3  4  6  9 36 15]\n",
            " [ 6 30 14 35  6 36]\n",
            " [ 4 36  9 24  5 20]\n",
            " [ 9 24 48 24 64 54]]\n",
            "Element-wise division of the given matrices:\n",
            "[[3.         0.25       0.66666667 1.         0.44444444 1.66666667]\n",
            " [6.         0.83333333 3.5        1.4        6.         2.25      ]\n",
            " [1.         0.44444444 9.         0.375      5.         0.8       ]\n",
            " [1.         0.66666667 0.75       0.66666667 1.         1.5       ]]\n"
          ]
        }
      ]
    }
  ]
}